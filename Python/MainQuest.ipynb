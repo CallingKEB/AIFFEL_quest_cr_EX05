{
  "nbformat": 4,
  "nbformat_minor": 0,
  "metadata": {
    "colab": {
      "provenance": [],
      "authorship_tag": "ABX9TyPWQqsqpCa3ePKWFtubMD9V",
      "include_colab_link": true
    },
    "kernelspec": {
      "name": "python3",
      "display_name": "Python 3"
    },
    "language_info": {
      "name": "python"
    }
  },
  "cells": [
    {
      "cell_type": "markdown",
      "metadata": {
        "id": "view-in-github",
        "colab_type": "text"
      },
      "source": [
        "<a href=\"https://colab.research.google.com/github/KSK123123/AIFFEL_quest_cr/blob/master/Python/MainQuest.ipynb\" target=\"_parent\"><img src=\"https://colab.research.google.com/assets/colab-badge.svg\" alt=\"Open In Colab\"/></a>"
      ]
    },
    {
      "cell_type": "markdown",
      "source": [
        "#[메인 퀘스트 1번: 은행계좌 만들기 - 3점]\n",
        "\n"
      ],
      "metadata": {
        "id": "N1oy0EJRU4wO"
      }
    },
    {
      "cell_type": "code",
      "source": [
        "from random import randint as rdint\n",
        "from time import localtime as lt"
      ],
      "metadata": {
        "id": "c15PZxyKhODj"
      },
      "execution_count": 96,
      "outputs": []
    },
    {
      "cell_type": "code",
      "execution_count": 139,
      "metadata": {
        "id": "DMePKf5-Uwxv"
      },
      "outputs": [],
      "source": [
        "# Q1. Account 클래스 : 은행에 가서 계좌를 개설하면 은행이름, 예금주, 계좌번호, 잔액이 설정됩니다.\n",
        "class Account:  # Account 클래스를 생성한 후 생성자 구현\n",
        "\n",
        "  # Q2. 클래스 변수: 클래스 변수를 사용해서 Account 클래스로부터 생성된 계좌 객체의 개수를 저장하세요.\n",
        "  bank_account_count = 0  # 계좌 객체 개수 저장 변수\n",
        "\n",
        "\n",
        "  # 생성자: 예금주와 초기 잔액만 입력 받습니다.\n",
        "  def __init__(self, name, init_money):\n",
        "    self.bank_name = \"SC은행\"  # 은행 이름\n",
        "    self.name = name  # 예금주\n",
        "\n",
        "    self.init_money = init_money  # 잔액\n",
        "    self.money = init_money  # 잔액\n",
        "\n",
        "    self.dp_money_count = 0  # 입금 횟수\n",
        "    self.tr_count = 0# 거래 횟수\n",
        "\n",
        "    self.dp_history = []  # 입금 내역\n",
        "    self.wd_history = []  # 출금 내역\n",
        "\n",
        "\n",
        "    # 은행이름은 SC은행으로 계좌번호는 3자리-2자리-6자리 형태로 랜덤하게 생성  => random\n",
        "    self.bank_account_num = \"\"  # 은행 계좌번호(은행이름: SC은행, 계좌번호: 111-11-111111)\n",
        "    self.bank_account_num = (str(rdint(100, 999)) + \"-\" + str(rdint(10, 99)) + \"-\" + str(rdint(100000, 999999)))\n",
        "\n",
        "    Account.bank_account_count += 1  # Q2. 계좌 객체 개수 증가\n",
        "\n",
        "  # Q3. 클래스 변수 출력 : Account 클래스로부터 생성된 계좌의 개수를 출력하는 get_account_num() 메서드를 추가하세요.\n",
        "  def get_account_num(self):\n",
        "    print(Account.bank_account_count)\n",
        "\n",
        "  # Q4. 입금 메서드: 입금을 위한 deposit 메서드를 추가\n",
        "  def deposit(self, dp_money):\n",
        "    self.dp_money = dp_money\n",
        "\n",
        "    # 입금은 최소 1원 이상만 가능\n",
        "    if self.dp_money >= 1:\n",
        "      self.money += self.dp_money\n",
        "      print(f\"{self.dp_money}원이 입금되었습니다.\")\n",
        "      self.tr_count += 1\n",
        "\n",
        "      #Q10. 입금과 출금 내역이 기록되도록 코드를 업데이트 하세요.\n",
        "      self.dp_history.append(f\"{self.tr_count}회 \\t입금: {self.dp_money}  잔금: {self.money}\\t{lt()[3]}:{lt()[4]}:{lt()[5]}\")\n",
        "\n",
        "    else:\n",
        "      print(\"1원 이상만 입금 가능합니다.\")\n",
        "\n",
        "    # Q7. 이자 지급하기 : 입금 횟수가 5회가 될 때 잔고를 기준으로 1%의 이자가 잔고에 추가되도록 코드를 변경해보세요.\n",
        "    self.dp_money_count += 1\n",
        "\n",
        "\n",
        "    if self.dp_money_count == 5:\n",
        "      print(f\"{int(self.money * 0.01)}의 이자가 지급되었습니다.\")\n",
        "      self.money += int(self.money * 0.01)\n",
        "      self.tr_count += 1\n",
        "      self.dp_history.append(f\"{self.tr_count}회 \\t이자 지급: {self.money * 0.01}  잔금: {self.money}\\t{lt()[3]}:{lt()[4]}:{lt()[5]}\")\n",
        "      self.dp_money_count = 0\n",
        "\n",
        "\n",
        "  # Q5. 출금 메서드: 출금을 위한 withdraw 메서드를 추가\n",
        "  def withdraw(self, wd_money):\n",
        "\n",
        "    self.wd_money = wd_money\n",
        "    if self.wd_money < 1:  # 입력받은 금액이 1보다 작을 경우\n",
        "        print(\"1원 이상만 가능합니다\")\n",
        "\n",
        "\n",
        "    # 계좌의 잔고 이상으로 출금할 수는 없다.\n",
        "    if self.wd_money <= self.money:  # 입력한 금액이 잔고보다 작을 경우\n",
        "\n",
        "      self.money -= int(self.wd_money)\n",
        "      self.tr_count += 1\n",
        "      print(f\"{self.wd_money}원이 출금되었습니다.\")\n",
        "\n",
        "      # Q10. 입금과 출금 내역이 기록되도록 코드를 업데이트 하세요.\n",
        "      self.wd_history.append(f\"{self.tr_count}회 \\t출금: {self.wd_money}  잔금: {self.money}\\t{lt()[3]}:{lt()[4]}:{lt()[5]}\")\n",
        "\n",
        "    else:\n",
        "      print(\"잔고가 부족합니다.\")\n",
        "\n",
        "\n",
        "  # Q6. 정보 출력 메서드 : Account 인스턴스에 저장된 정보를 출력하는 display_info() 메서드를 추가\n",
        "  def display_info(self):\n",
        "    print(f\"은행이름: {self.bank_name} \\n\"\n",
        "                 f\"계좌번호: {self.bank_account_num}\\n\"\n",
        "                 f\"예금주: {self.name} \\n\"\n",
        "                 f\"잔고: {format(self.money, ',')}원\\n\")  # 잔고는 세 자리마다 쉼표를 출력 => format 함수 사용\n",
        "# 은행이름: SC은행,\n",
        "# 예금주: 파이썬,\n",
        "# 계좌번호: 111-11-111111,\n",
        "# 잔고: 10,000원\n",
        "\n",
        "\n",
        "# Q10. 입금과 출금 내역이 기록되도록 코드를 업데이트 하세요.\n",
        "# deposit_history 입금 내역 출력 메서드\n",
        "  def deposit_history(self):\n",
        "    print(f\"{self.name}님의 입금 내역입니다.\")\n",
        "\n",
        "    for i in range(len(self.dp_history)):\n",
        "      print(self.dp_history[i])\n",
        "\n",
        "# withdraw_history 출금 내역 출력 메서드\n",
        "  def withdraw_history(self):\n",
        "    print(f\"{self.name}님의 출금 내역입니다.\")\n",
        "\n",
        "    for i in range(len(self.wd_history)):\n",
        "      print(self.wd_history[i])\n"
      ]
    },
    {
      "cell_type": "code",
      "source": [
        "# Q8. 여러 객체 생성 : Account 클래스로부터 3개 이상 인스턴스를 생성하고\n",
        "kim = Account(\"kim\", 10000)\n",
        "aiffel = Account(\"aiffel\", 1000000)\n",
        "python = Account(\"python\", 10000000)\n",
        "\n",
        "# 생성된 인스턴스를 리스트에 저장해보세요.\n",
        "customer = []\n",
        "customer.append(kim)\n",
        "customer.append(aiffel)\n",
        "customer.append(python)"
      ],
      "metadata": {
        "id": "9BRydDkCISBe"
      },
      "execution_count": 140,
      "outputs": []
    },
    {
      "cell_type": "code",
      "source": [
        "#제대로 생성되었는지 확인\n",
        "for i in customer:\n",
        "  i.display_info()"
      ],
      "metadata": {
        "colab": {
          "base_uri": "https://localhost:8080/"
        },
        "id": "Gd_2F92eC4ZB",
        "outputId": "aaff88f0-9ca7-48c6-b11e-55a066c4f822"
      },
      "execution_count": 106,
      "outputs": [
        {
          "output_type": "stream",
          "name": "stdout",
          "text": [
            "은행이름: SC은행 \n",
            "계좌번호: 997-51-672159\n",
            "예금주: kim \n",
            "잔고: 10,000원\n",
            "\n",
            "은행이름: SC은행 \n",
            "계좌번호: 390-19-180424\n",
            "예금주: aiffel \n",
            "잔고: 1,000,000원\n",
            "\n",
            "은행이름: SC은행 \n",
            "계좌번호: 656-96-204161\n",
            "예금주: python \n",
            "잔고: 10,000,000원\n",
            "\n"
          ]
        }
      ]
    },
    {
      "cell_type": "code",
      "source": [
        "# Q9. 객체 순회 반복문을 통해 리스트에 있는 객체를 순회하면서 잔고가 100만원 이상인 고객의 정보만 출력하세요.\n",
        "for i in customer:\n",
        "  if i.money >= 1000000:\n",
        "    i.display_info()\n"
      ],
      "metadata": {
        "colab": {
          "base_uri": "https://localhost:8080/"
        },
        "id": "XEE4034nIyCu",
        "outputId": "b0772e92-50d7-4303-c77c-bcd99c993758"
      },
      "execution_count": 107,
      "outputs": [
        {
          "output_type": "stream",
          "name": "stdout",
          "text": [
            "은행이름: SC은행 \n",
            "계좌번호: 390-19-180424\n",
            "예금주: aiffel \n",
            "잔고: 1,000,000원\n",
            "\n",
            "은행이름: SC은행 \n",
            "계좌번호: 656-96-204161\n",
            "예금주: python \n",
            "잔고: 10,000,000원\n",
            "\n"
          ]
        }
      ]
    },
    {
      "cell_type": "code",
      "source": [
        "# 입출금 기능 + 이자 지급 기능\n",
        "\n",
        "for i in range(10):\n",
        "  kim.deposit(1000)\n",
        "kim.deposit(-1000)\n",
        "kim.withdraw(10000000)\n",
        "kim.withdraw(1000)\n"
      ],
      "metadata": {
        "colab": {
          "base_uri": "https://localhost:8080/"
        },
        "id": "g1V-OE4Ey778",
        "outputId": "dc17a490-724c-4294-a965-8c589f6153c5"
      },
      "execution_count": 142,
      "outputs": [
        {
          "output_type": "stream",
          "name": "stdout",
          "text": [
            "1000원이 입금되었습니다.\n",
            "1000원이 입금되었습니다.\n",
            "1000원이 입금되었습니다.\n",
            "1000원이 입금되었습니다.\n",
            "1000원이 입금되었습니다.\n",
            "150의 이자가 지급되었습니다.\n",
            "1000원이 입금되었습니다.\n",
            "1000원이 입금되었습니다.\n",
            "1000원이 입금되었습니다.\n",
            "1000원이 입금되었습니다.\n",
            "1000원이 입금되었습니다.\n",
            "201의 이자가 지급되었습니다.\n",
            "1원 이상만 입금 가능합니다.\n",
            "잔고가 부족합니다.\n",
            "1000원이 출금되었습니다.\n"
          ]
        }
      ]
    },
    {
      "cell_type": "code",
      "source": [
        "# 입출금 기록 확인 기능\n",
        "\n",
        "kim.deposit_history()\n",
        "print('-' * 50)\n",
        "kim.withdraw_history()"
      ],
      "metadata": {
        "colab": {
          "base_uri": "https://localhost:8080/"
        },
        "id": "P5so6It1zknY",
        "outputId": "0b151ee4-363f-4d3e-d5b0-346130a5a79a"
      },
      "execution_count": 143,
      "outputs": [
        {
          "output_type": "stream",
          "name": "stdout",
          "text": [
            "kim님의 입금 내역입니다.\n",
            "1회 \t입금: 1000  잔금: 11000\t8:42:6\n",
            "2회 \t입금: 1000  잔금: 12000\t8:42:6\n",
            "3회 \t입금: 1000  잔금: 13000\t8:42:6\n",
            "4회 \t입금: 1000  잔금: 14000\t8:42:6\n",
            "5회 \t입금: 1000  잔금: 15000\t8:42:6\n",
            "6회 \t이자 지급: 151.5  잔금: 15150\t8:42:6\n",
            "7회 \t입금: 1000  잔금: 16150\t8:42:6\n",
            "8회 \t입금: 1000  잔금: 17150\t8:42:6\n",
            "9회 \t입금: 1000  잔금: 18150\t8:42:6\n",
            "10회 \t입금: 1000  잔금: 19150\t8:42:6\n",
            "11회 \t입금: 1000  잔금: 20150\t8:42:6\n",
            "12회 \t이자 지급: 203.51  잔금: 20351\t8:42:6\n",
            "--------------------------------------------------\n",
            "kim님의 출금 내역입니다.\n",
            "13회 \t출금: 1000  잔금: 19351\t8:42:6\n"
          ]
        }
      ]
    },
    {
      "cell_type": "markdown",
      "source": [
        "---\n",
        "#[메인 퀘스트 2번: 간단한 자동사냥 RPG 만들기 - 2점]\n",
        "\n"
      ],
      "metadata": {
        "id": "qDghzDzLKFgZ"
      }
    },
    {
      "cell_type": "code",
      "source": [
        "# Q1. Character 클래스 만들기\n",
        "class Character:\n",
        "\n",
        "  # 생성자로 (이름, 레벨, 체력, 공격력, 방어력)속성 만들기\n",
        "  def __init__(self, name, level, hp, attack, defense):\n",
        "    self.name = name\n",
        "    self.level = level\n",
        "    self.hp = hp\n",
        "    self.attack = attack\n",
        "    self.defense = defense\n",
        "\n",
        "  # 인스턴스의 현재 체력이 0 이상인지 bool 값을 반환하는 is_alive 메서드 만들기\n",
        "  def is_alive(self):\n",
        "    if self.hp > 0:\n",
        "      return True\n",
        "    else:\n",
        "      return False\n",
        "\n",
        "  # 공격을 받았을 때, (받은 데미지 - 본인의 방어력)만큼 현재 체력이 감소하는 take_damage 메서드 만들기\n",
        "  def take_damage(self, damage_taken):\n",
        "\n",
        "    # 본인의 방어력이 데미지보다 크다면 체력 감소하지 않음 => hp 건드리지 않기\n",
        "    if self.defense >= damage_taken:\n",
        "      print(f\"{self.name}이(가) 공격을 막아냈다!!\")\n",
        "\n",
        "    else:  # 데미지가 더 크면\n",
        "      self.hp -= (damage_taken - self.defense)  # 체력 감소\n",
        "      if self.hp < 0:  # 만약 체력이 0 이하로 떨어진다면\n",
        "        self.hp = 0  # 0으로 초기화해주기\n",
        "\n",
        "\n",
        "\n",
        "  # 타겟에게 데미지를 입히는 attack_target 메서드 만들기\n",
        "  def attack_target(self, target):\n",
        "\n",
        "    # 데미지는 1부터 공격력 사이의 랜덤한 정수\n",
        "    damage_dealt = rdint(1, self.attack)  # random 모듈의 randint함수 사용\n",
        "    print(f\"{self.name}이(가) {target.name}에게 {damage_dealt} 만큼 공격했다...!\")\n",
        "\n",
        "    # target 객체가 내(self) 공격력 만큼 데미지를 입어야 하므로\n",
        "    # target 객체의 take_damage를 사용\n",
        "    # 내 데미지가 저장되어 있는 damage_dealt를 인수로 넣어주기\n",
        "    target.take_damage(damage_dealt)\n",
        "    print(f\"{target.name}의 남은 체력: {target.hp}\")\n",
        "\n",
        "\n",
        "# Q2. Player 클래스와 Monster 클래스 만들기\n",
        "# Player 클래스\n",
        "# Character를 상속 받기\n",
        "class Player(Character):\n",
        "\n",
        "  # 플레이어의 이름을 입력받을 것이므로 name 매개변수 받기\n",
        "  def __init__(self, name):\n",
        "    # 부모클래스(super())의 생성자를 끌어와\n",
        "    # 이름, 레벨, 체력, 공격력, 방어력 속성 인자 기입\n",
        "    # 레벨 1, 체력 100, 공격력 25, 방어력 5로 초기화하기\n",
        "    super().__init__(name, 1, 100, 25, 5)\n",
        "\n",
        "    # Player 클래스는 경험치 속성을 추가로 가짐\n",
        "    self.experience = 0\n",
        "\n",
        "  # 인수로 받은 정수 만큼 경험치를 획득하는 gain_experience 메서드 만들기\n",
        "  def gain_experience(self, exp):\n",
        "    self.experience += exp\n",
        "    print(f\"{self.name}이(가) {exp}만큼의 경험치를 획득했다!\")\n",
        "    if self.experience >= 50:\n",
        "      self.level_up()\n",
        "\n",
        "  def level_up(self):\n",
        "    while self.experience >= 50:  # 현재 경험치가 50이상이면\n",
        "      self.level += 1  # 레벨을 1\n",
        "      self.attack += 10  # 공격력을 10\n",
        "      self.defense += 5  # 방어력을 5씩 올리기\n",
        "      self.experience -= 50\n",
        "      print(f\"{self.name}의 레벨이 {self.level}로 올랐다!\\n\")\n",
        "      self.hp = 100  # 레벨업을 했으니 체력을 채워주자\n",
        "\n",
        "#Player 클래스와 마찬가지로 Character 클래스 상속 받기\n",
        "class Monster(Character):\n",
        "\n",
        "  # 아래 monster_dict에서 몬스터 이름과 레벨 값을 받아올 것이므로\n",
        "  # name, level 매개변수 받기\n",
        "  def __init__(self, name, level):\n",
        "\n",
        "    # 몬스터의 레벨에 비례하는 체력, 공격력, 방어력 초기화하기\n",
        "    hp = rdint(10, 30) * level  # 체력: 10~30 사이의 랜덤한 정수 * 레벨\n",
        "    attack = rdint(5, 20) * level  # 공격력: 5~20 사이의 랜덤한 정수 * 레벨\n",
        "    defense = rdint(1, 5) * level  # 방어력: 1~5 사이의 랜덤한 정수 * 레벨\n",
        "\n",
        "    # 부모클래스(super())의 생성자를 끌어와\n",
        "    # 이름, 레벨, 체력, 공격력, 방어력 속성 인자 기입\n",
        "    super().__init__(name, level, hp, attack, defense)\n",
        "\n",
        "\n",
        "# Q3. battle 함수 만들기\n",
        "def battle(player, monster):  # Player 인스턴스와 Monster 인스턴스를 인수로 받기\n",
        "# 둘 중 하나의 체력이 0 이하가 될 때까지 공격을 주고 받는 함수\n",
        "  print(f\"\\n\\n{player.name}이(가) {monster.name}과(와) 전투를 시작했다!\\n\")\n",
        "  while player.is_alive() and monster.is_alive():  #둘이 살아 있을 때 동안은 True\n",
        "    player.attack_target(monster)  # player 선공, monster 객체를 인자로 넣기\n",
        "\n",
        "    if monster.is_alive():  # monster가 살았다면\n",
        "      monster.attack_target(player)  # monster가 뒤이어 공격, 마찬가지로 player 객체를 인자로 넣기\n",
        "\n",
        "  # 먼저 Player 생사 확인\n",
        "  if player.is_alive():\n",
        "\n",
        "    # player의 레벨업 메서드 호출 => gain_experience 메서드 내에 추가\n",
        "    print(f\"전투 승리!\\n{monster.name}을 이겼다!!\\n\")  # ‘전투 승리!’를 출력\n",
        "    # Player 인스턴스에 (몬스터 레벨 * 20)만큼의 경험치를 추가\n",
        "    player.gain_experience(monster.level * 20)\n",
        "\n",
        "  else:  # Player 인스턴스가 살아남지 못했을 경우\n",
        "    print(\"전투 패배..\\n\")  # ‘전투 패배..’를 출력하기\n",
        "\n",
        "\n",
        "# Q4. main 함수 만들기\n",
        "def main():\n",
        "  #몬스터의 이름:레벨이 매핑된 딕셔너리 정의하기\n",
        "  monster_dict ={'슬라임': 1, '고블린': 2, '오크': 3}\n",
        "\n",
        "  #사용자로부터 이름을 입력받아 Player 인스턴스 생성하기\n",
        "  player_name = input(\"당신의 캐릭터 이름을 입력해주세요: \")\n",
        "  player = Player(player_name)\n",
        "\n",
        "  # 몬스터 딕셔너리로부터 Monster 인스턴스 생성하기\n",
        "  # player는 생성된 몬스터 3마리(슬라임, 고블린, 오크)와 모두 전투해야함\n",
        "  for monster_name, monster_level in monster_dict.items():\n",
        "    monster = Monster(monster_name, monster_level)\n",
        "\n",
        "    #생성된 Monster 인스턴스와 Player 인스턴스가 battle 함수를 통해 전투\n",
        "    battle(player, monster)\n",
        "\n",
        "    #전투 도중에 Player가 사망하면 이후 전투를 진행하지 않고 ‘게임오버’ 출력하고 종료\n",
        "    if not player.is_alive():\n",
        "      print(\"게임오버\")\n",
        "      break\n",
        "\n",
        "\n",
        "\n",
        "\n"
      ],
      "metadata": {
        "id": "sLLa2TQvOwuL"
      },
      "execution_count": 93,
      "outputs": []
    },
    {
      "cell_type": "code",
      "source": [
        "main()"
      ],
      "metadata": {
        "colab": {
          "base_uri": "https://localhost:8080/"
        },
        "id": "Ffrmz_HlknDj",
        "outputId": "d7aed967-12ce-4ddb-8163-897f216c6a4a"
      },
      "execution_count": 95,
      "outputs": [
        {
          "output_type": "stream",
          "name": "stdout",
          "text": [
            "당신의 캐릭터 이름을 입력해주세요: 김\n",
            "\n",
            "\n",
            "김이(가) 슬라임과(와) 전투를 시작했다!\n",
            "\n",
            "김이(가) 슬라임에게 1 만큼 공격했다...!\n",
            "슬라임이(가) 공격을 막아냈다!!\n",
            "슬라임의 남은 체력: 19\n",
            "슬라임이(가) 김에게 5 만큼 공격했다...!\n",
            "김이(가) 공격을 막아냈다!!\n",
            "김의 남은 체력: 100\n",
            "김이(가) 슬라임에게 3 만큼 공격했다...!\n",
            "슬라임의 남은 체력: 17\n",
            "슬라임이(가) 김에게 11 만큼 공격했다...!\n",
            "김의 남은 체력: 94\n",
            "김이(가) 슬라임에게 18 만큼 공격했다...!\n",
            "슬라임의 남은 체력: 0\n",
            "전투 승리!\n",
            "슬라임을 이겼다!!\n",
            "\n",
            "김이(가) 20만큼의 경험치를 획득했다!\n",
            "\n",
            "\n",
            "김이(가) 고블린과(와) 전투를 시작했다!\n",
            "\n",
            "김이(가) 고블린에게 11 만큼 공격했다...!\n",
            "고블린의 남은 체력: 41\n",
            "고블린이(가) 김에게 15 만큼 공격했다...!\n",
            "김의 남은 체력: 84\n",
            "김이(가) 고블린에게 2 만큼 공격했다...!\n",
            "고블린이(가) 공격을 막아냈다!!\n",
            "고블린의 남은 체력: 41\n",
            "고블린이(가) 김에게 39 만큼 공격했다...!\n",
            "김의 남은 체력: 50\n",
            "김이(가) 고블린에게 4 만큼 공격했다...!\n",
            "고블린의 남은 체력: 39\n",
            "고블린이(가) 김에게 25 만큼 공격했다...!\n",
            "김의 남은 체력: 30\n",
            "김이(가) 고블린에게 23 만큼 공격했다...!\n",
            "고블린의 남은 체력: 18\n",
            "고블린이(가) 김에게 9 만큼 공격했다...!\n",
            "김의 남은 체력: 26\n",
            "김이(가) 고블린에게 13 만큼 공격했다...!\n",
            "고블린의 남은 체력: 7\n",
            "고블린이(가) 김에게 31 만큼 공격했다...!\n",
            "김의 남은 체력: 0\n",
            "전투 패배..\n",
            "\n",
            "게임오버\n"
          ]
        }
      ]
    },
    {
      "cell_type": "code",
      "source": [],
      "metadata": {
        "id": "ocKJsBIrkqCf"
      },
      "execution_count": null,
      "outputs": []
    }
  ]
}
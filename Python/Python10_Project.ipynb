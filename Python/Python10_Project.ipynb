{
  "nbformat": 4,
  "nbformat_minor": 0,
  "metadata": {
    "colab": {
      "provenance": [],
      "authorship_tag": "ABX9TyNwp82BcHOow6Jd63WpNDMK",
      "include_colab_link": true
    },
    "kernelspec": {
      "name": "python3",
      "display_name": "Python 3"
    },
    "language_info": {
      "name": "python"
    }
  },
  "cells": [
    {
      "cell_type": "markdown",
      "metadata": {
        "id": "view-in-github",
        "colab_type": "text"
      },
      "source": [
        "<a href=\"https://colab.research.google.com/github/KSK123123/AIFFEL_quest_cr/blob/master/Python/Python10_Project.ipynb\" target=\"_parent\"><img src=\"https://colab.research.google.com/assets/colab-badge.svg\" alt=\"Open In Colab\"/></a>"
      ]
    },
    {
      "cell_type": "markdown",
      "source": [
        "#프로젝트 1번\n",
        "---"
      ],
      "metadata": {
        "id": "sckLhpduW1_9"
      }
    },
    {
      "cell_type": "code",
      "source": [
        "# 사각형 넓이를 구하는 클래스 완성!\n",
        "class Square:\n",
        "    def __init__(self):\n",
        "        self.square = int(input('넓이를 구하고 싶은 사각형의 숫자를 써주세요.\\n 1.직사각형 2.평행사변형 3.사다리꼴 \\n >>>'))\n",
        "\n",
        "        if self.square == 1:\n",
        "            print('직사각형 함수는 rect()입니다.')\n",
        "\n",
        "        elif self.square == 2:\n",
        "            print('평행사변형 함수는 par()입니다.')\n",
        "\n",
        "        elif self.square == 3:\n",
        "            print('사다리꼴 함수는 trape()입니다.')\n",
        "\n",
        "        else:\n",
        "            print('1, 2, 3 중에서 다시 입력해주세요')\n",
        "\n",
        "    def rect(self):\n",
        "        width, vertical = map(int, input('가로, 세로를 입력하세요. 예시 : 가로,세로\\n >>>').split(','))\n",
        "        area = width * vertical\n",
        "        result = '직사각형의 넓이는 : ' + str(area)\n",
        "        return result\n",
        "\n",
        "    def par(self):\n",
        "        width, height = map(int, input('가로, 세로를 입력하세요. 예시 : 가로, 세로').split(','))\n",
        "        area = width * height\n",
        "        result = f\"평행사변형의 넓이는: {area}\"\n",
        "\n",
        "        return result\n",
        "\n",
        "    def trape(self):\n",
        "        lower_base, upper_base, height = map(int, input('밑변, 윗변, 높이를 입력하세요. 예시 : 밑변, 윗변, 높이').split(','))\n",
        "        area = (lower_base + upper_base) * height / 2\n",
        "        result = f\"평행사변형의 넓이는: {area}\"\n",
        "\n",
        "        return result\n",
        "\n"
      ],
      "metadata": {
        "id": "VICFI6DGWf0S"
      },
      "execution_count": null,
      "outputs": []
    },
    {
      "cell_type": "code",
      "source": [
        "a = Square()\n",
        "a.par()\n",
        "a.trape()"
      ],
      "metadata": {
        "id": "jf1UP3U9Wm4R"
      },
      "execution_count": null,
      "outputs": []
    },
    {
      "cell_type": "markdown",
      "source": [
        "#프로젝트 2번\n",
        "---"
      ],
      "metadata": {
        "id": "LB-7b6DyWxjr"
      }
    },
    {
      "cell_type": "code",
      "execution_count": null,
      "metadata": {
        "id": "KhTDle0xWBeR"
      },
      "outputs": [],
      "source": [
        "# 문제 3-3. 클래스 업데이트\n",
        "# 앞에서 구현했던 메서드들을 Kiosk 클래스에 추가합니다. 직접 코드를 작성해 보세요!\n",
        "\n",
        "class Kiosk:\n",
        "    def __init__(self):\n",
        "        self.order_menu = []  # temp + menu이름\n",
        "        self.order_price = []  # 가격\n",
        "        self.order_price_sum = 0\n",
        "\n",
        "    # 메뉴 출력 메서드\n",
        "    def menu_list_print(self):\n",
        "        self.menu = ['americano', 'latte', 'mocha', 'yuza_tea', 'green_tea', 'choco_latte']\n",
        "        self.price = ['2000', '3000', '3000', '2500', '2500', '3000']\n",
        "\n",
        "        print('-' * 5 + '메뉴' + '-' * 5)\n",
        "        print(\"\\n-- coffee --\")\n",
        "        for i in range(len(self.menu[0:3])):\n",
        "            print(i + 1, self.menu[i], self.price[i], '원')\n",
        "\n",
        "        print(\"\\n-- non coffee --\")\n",
        "        for i in range(len(self.menu[:3])):\n",
        "            print(i + 4, self.menu[i+3], self.price[i+3], '원')\n",
        "\n",
        "    # 주문 메서드\n",
        "    def order(self):\n",
        "        n = 0\n",
        "        while n < 1 or len(self.menu) < n :\n",
        "            n = int(input(\"주문하실 메뉴의 번호를 입력해주세요 :  \"))\n",
        "\n",
        "            if n < 1 or len(self.menu) < n:\n",
        "                print(\"잘못 입력하셨습니다. 숫자 1~6 사이의 번호를 입력해주세요.\")\n",
        "                continue\n",
        "\n",
        "            t = 0\n",
        "            while t != 1 and t != 2:\n",
        "                t = int(input(\"뜨거운 걸 원하면 1, 차가운 걸 원하면 2를 입력해주세요 :  \"))\n",
        "                if t == 1:\n",
        "                    self.temp = \"HOT\"\n",
        "                elif t == 2:\n",
        "                    self.temp = \"ICE\"\n",
        "                else:\n",
        "                    print(\"잘못 입력하셨습니다. 숫자 1 또는 2를 입력해주세요.\")\n",
        "\n",
        "            self.order_menu.append(self.temp + ' ' + self.menu[n-1])\n",
        "            self.order_price.append(self.price[n-1])\n",
        "            self.order_price_sum += int(self.price[n-1])\n",
        "\n",
        "            print(\"[주문 목록]\")\n",
        "            for i in range(len(self.order_menu)):\n",
        "                print(f\"{i+1} {self.order_menu[i]} {self.order_price[i]}원\")\n",
        "            print(f\"합계 금액: {self.order_price_sum}원\")\n",
        "\n",
        "            yn = ''\n",
        "            while yn != 'y' and yn !='n':\n",
        "                yn = input(\"추가로 주문하시겠습니까? (y/n) :  \")\n",
        "                if yn == 'y':\n",
        "                    n = 0\n",
        "                elif yn == 'n':\n",
        "                    pass\n",
        "                else:\n",
        "                    print(\"잘못 입력하셨습니다. y 또는 n 을 입력해주세요.\")\n",
        "\n",
        "\n",
        "    # 지불 메서드\n",
        "    def payment(self):\n",
        "        n = 0\n",
        "        while n != 1 and n != 2:\n",
        "            n = int(input(\"현금(cash): 1 \\n카드(card): 2\\n결제하실 방법을 선택해주세요 :  \"))\n",
        "            if n == 1:\n",
        "                self.pay = \"현금(cash)\"\n",
        "            elif n == 2:\n",
        "                self.pay = \"카드(card)\"\n",
        "            else:\n",
        "                print(\"잘못 입력하셨습니다. 현금이면 1, 카드면 2를 입력해주세요.\")\n",
        "\n",
        "    # 주문서 출력 메서드\n",
        "    def order_paper(self):\n",
        "        print('┌' + '─' * 10 + '[영수증]' + '─' * 10 + '┐')\n",
        "        print('│' + f'결제방식: {self.pay}' + ' ' * 9 + '│')\n",
        "        for i in range(2):\n",
        "            print('│' + ' ' * 27 + '│')\n",
        "\n",
        "        for i in range(len(self.order_menu)):\n",
        "            print(f\"│ {i+1} {self.order_menu[i]}\" + ' ' *(22-(len(self.order_menu[i])+len(self.order_price[i]))) + f\"{self.order_price[i]}\" +'원' + '│')\n",
        "\n",
        "        print(\"│\" + ' ' * 17 + '-' *10 + '│')\n",
        "        print(f\"│ 합    계\" + ' ' * (17-len(str(self.order_price_sum))) + f\"{self.order_price_sum}원│\" )\n",
        "\n",
        "        for i in range(2):\n",
        "            print('│' + ' ' * 27 + '│')\n",
        "        print('└' + '─' * 27 + '┘')\n"
      ]
    },
    {
      "cell_type": "code",
      "source": [
        "a = Kiosk()  # 객체 생성\n",
        "a.menu_list_print()  # 메뉴 출력\n",
        "a.order()  # 주문\n",
        "a.payment()  # 지불\n",
        "a.order_paper()  # 주문표 출력"
      ],
      "metadata": {
        "id": "U8sS1DIVWSRj"
      },
      "execution_count": null,
      "outputs": []
    }
  ]
}
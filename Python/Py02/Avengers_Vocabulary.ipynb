{
  "nbformat": 4,
  "nbformat_minor": 0,
  "metadata": {
    "colab": {
      "provenance": [],
      "include_colab_link": true
    },
    "kernelspec": {
      "name": "python3",
      "display_name": "Python 3"
    },
    "language_info": {
      "name": "python"
    }
  },
  "cells": [
    {
      "cell_type": "markdown",
      "metadata": {
        "id": "view-in-github",
        "colab_type": "text"
      },
      "source": [
        "<a href=\"https://colab.research.google.com/github/KSK123123/AIFFEL_quest_cr/blob/master/Python/Py02/Avengers_Vocabulary.ipynb\" target=\"_parent\"><img src=\"https://colab.research.google.com/assets/colab-badge.svg\" alt=\"Open In Colab\"/></a>"
      ]
    },
    {
      "cell_type": "code",
      "source": [
        "import re  # 정규 표현식을 사용하기 위해 라이브러리 가져오기\n",
        "\n",
        "# 조건 1: 텍스트 전처리\n",
        "# 조건 1-1: Avengers.txt 파일 불러오기\n",
        "avengerstxt = '/content/drive/MyDrive/Avengers.txt'  # txt파일 경로 지정\n",
        "avengers = open(avengerstxt, 'r')  # 읽기모드로 열기\n",
        "\n",
        "adi =  dict()  # 단어와 빈도수를 저장할 딕셔너리 생성\n",
        "\n",
        "for line in avengers:\n",
        "  line = line.strip()  # 줄의 앞 뒤 공백 제거\n",
        "  line = line.lower()  # 조건 1-2: 소문자로 변환\n",
        "  line = re.sub(r'[^\\w\\s]', '', line)  # 조건 1-3: 모든 기호  제거\n",
        "  # re.sub: 정규표현식을 이용한 문자열 치환 함수\n",
        "  # [^....] : 괄호 안의 문자가 아닌것들\n",
        "  # \\w : 모든 단어를 의미\n",
        "  # \\s: 모든 공백을 의미\n",
        "\n",
        "  # [^\\w\\s] : 모든 단어와 공백이 아닌 것들을\n",
        "  # '' : 빈 문자열로 대체한다.\n",
        "\n",
        "  words = line.split()  # 조건 1-4: 단어 단위로 분리\n",
        "\n",
        "\n",
        "  # 조건 2: 각 단어 별 빈도수를 딕셔너리 형태로 저장\n",
        "  for w in words:\n",
        "    if w in adi: # 이미 존재하는 단어일 경우\n",
        "      adi[w] += 1  #빈도수 증가\n",
        "    else:  # 새로운 단어일 경우\n",
        "      adi[w] = 1  # 빈도수 1로 초기화\n",
        "\n",
        "  # 조건 3-1: 빈도수순으로 내림차순 정렬\n",
        "  sort_adi = sorted(adi.items(), key = lambda item:item[1], reverse = True)\n",
        "  #sorted: 정렬 함수,(정렬 대상, 정렬 기준, 정렬순서(기본값은 False = 오름차순))\n",
        "\n",
        "# 조건 3-2: 정렬 순서대로 정수 인덱스 부여\n",
        "indexed_adi = {word: index for index, (word, _) in enumerate(sort_adi)}\n",
        "# 딕셔너리 컴프리헨션, enumerate함수를 사용하여 한줄로 인덱스 부여\n",
        "\n",
        "\n",
        "#조건 4: 텍스트를 input()으로 받아 정수를 return하는 함수를 만든다.\n",
        "def text_to_indices(text):\n",
        "    words = text.lower().split()  # 입력 문장을 소문자로 변환하고 단어 단위로 분리\n",
        "    indices = [indexed_adi.get(word, -1) for word in words]\n",
        "    # 리스트 컴프리헨션을 사용하여 각 단어의 인덱스를 찾고, 없으면 -1을 반환\n",
        "\n",
        "    return indices  # 각 단어의 인덱스를 모아놓은 리스트 반환\n",
        "\n",
        "# 사용자 입력 받기\n",
        "intxt = input(\"문장을 입력하세요: \")\n",
        "indices = text_to_indices(intxt)\n",
        "print(indices)\n",
        "\n",
        "# i am a boy를 입력했을 경우\n",
        "# [2, 121, 3, 541]가 나와야 하지만\n",
        "# [2, 131, 3 ,549]가 나오게 된다.\n",
        "# 빈도수 측정에는 문제가 없는 것 같지만\n",
        "# 내림차순 정렬하는 과정에서 같은 빈도수의 단어들이 많아\n",
        "# key(어순) -> value(빈도수) 순으로 정렬하면\n",
        "# 같은 결과가 나오지 않을까 한다."
      ],
      "metadata": {
        "id": "Hbt3ckTAWhFw",
        "colab": {
          "base_uri": "https://localhost:8080/"
        },
        "outputId": "b1a38d97-c136-46e7-b385-14bb1a9e284d"
      },
      "execution_count": null,
      "outputs": [
        {
          "output_type": "stream",
          "name": "stdout",
          "text": [
            "문장을 입력하세요: i am a boy\n",
            "[2, 131, 3, 549]\n"
          ]
        }
      ]
    },
    {
      "cell_type": "markdown",
      "source": [
        "# 회고\n",
        "\n",
        "**[방미선]**\n",
        "\n",
        "저는 사실 잘 몰라서 김승기님이 다 하셨는데, 승기님께 죄송하네요. 같이 하는건데, 제가 도움이 안되어서요. 혼자서 열심히 하시느라고 수고 많으셨어요.\n",
        "\n",
        "---\n",
        "**[김승기]**\n",
        "\n",
        " 각자 조건을 1개씩 맡아 코드를 작성하려고 했으나 저희 두명에게는 난이도가 상당히 있는 편이었습니다.\n",
        "\n",
        "저는 제 할거를 하기에도 벅찼고 계속해서 집중하느라 미선님과의 소통이 잘 이루어진것 같지 않아서 아쉬웠습니다."
      ],
      "metadata": {
        "id": "t-UUH37X0X_-"
      }
    }
  ]
}
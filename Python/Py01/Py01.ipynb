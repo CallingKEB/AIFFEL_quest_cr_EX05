{
  "nbformat": 4,
  "nbformat_minor": 0,
  "metadata": {
    "colab": {
      "provenance": [],
      "include_colab_link": true
    },
    "kernelspec": {
      "name": "python3",
      "display_name": "Python 3"
    },
    "language_info": {
      "name": "python"
    }
  },
  "cells": [
    {
      "cell_type": "markdown",
      "metadata": {
        "id": "view-in-github",
        "colab_type": "text"
      },
      "source": [
        "<a href=\"https://colab.research.google.com/github/KSK123123/AIFFEL_quest_cr/blob/master/Python/Py01/Py01.ipynb\" target=\"_parent\"><img src=\"https://colab.research.google.com/assets/colab-badge.svg\" alt=\"Open In Colab\"/></a>"
      ]
    },
    {
      "cell_type": "markdown",
      "source": [
        "# 회문인지 아닌지 확인하는 프로그램\n",
        "----\n",
        "회문: 앞으로 읽어도 뒤로 읽어도 같은 단어, 구, 문장, 숫자, 문단\n",
        "\n",
        "조건\n",
        "1. 단어를 입력받을 수 있게 한다.\n",
        "2. 입력된 단어를 뒤집어서 출력할 수 있게 한다.\n",
        "3. 입력된 단어가 회문이 맞는지 확인하여 출력할 수 있게 한다.\n",
        "4. 자료형, 제어문, 함수를 활용\n",
        "\n",
        "\n",
        "출력값 예시\n",
        "========\n",
        "입력값: 우성우\n",
        "출력값:\n",
        "뒤집힌 단어는: 우성우\n",
        "---\n",
        "입력한 단어는 회문입니다."
      ],
      "metadata": {
        "id": "4sCHCc0jt9Uc"
      }
    },
    {
      "cell_type": "code",
      "source": [
        "def palindrome():\n",
        "\n",
        "  # 조건1. 단어를 입력받을 수 있게 한다.\n",
        "  word = input(\"단어를 입력하세요: \")  # 조건4-1. 식별자 자료형 str 사용\n",
        "  print(\"입력값: \",  word)\n",
        "\n",
        "  # 2. 입력된 단어를 뒤집어서 출력할 수 있게 한다.\n",
        "  print(\"뒤집힌 단어는:\", word[::-1])\n",
        "\n",
        "  # 2-1. 입력된 단어를 뒤집어서 출력할 수 있게 한다.\n",
        "  # print(word[-1::])\n",
        "  # first_word = word[0]\n",
        "  # last_word = word[-1]\n",
        "\n",
        "  #print(first_word, last_word)\n",
        "\n",
        "  # 3. 입력된 단어가 회문이 맞는지 확인하여 출력할 수 있게 한다.\n",
        "  if word == word[::-1]: # 조건4-2. 제어문(if) 활용\n",
        "    print(\"입력한 단어는 회문입니다.\")\n",
        "\n",
        "  else:\n",
        "    print(\"입력한 단어는 회문이 아닙니다.\")\n",
        "\n"
      ],
      "metadata": {
        "id": "NcL49jRnuE-_"
      },
      "execution_count": 2,
      "outputs": []
    },
    {
      "cell_type": "code",
      "source": [
        "palindrome()"
      ],
      "metadata": {
        "colab": {
          "base_uri": "https://localhost:8080/"
        },
        "id": "vxxXl8bvs3-X",
        "outputId": "e80794f5-3574-48a6-9afa-3a770cfbf129"
      },
      "execution_count": 3,
      "outputs": [
        {
          "output_type": "stream",
          "name": "stdout",
          "text": [
            "단어를 입력하세요: 기러기러기\n",
            "입력값:  기러기러기\n",
            "뒤집힌 단어는: 기러기러기\n",
            "입력한 단어는 회문입니다.\n"
          ]
        }
      ]
    },
    {
      "cell_type": "markdown",
      "source": [
        "#회고\n",
        "---\n",
        "[김승기]\n",
        "\n",
        "처음 논의가 오갔던 내용은 회문이라는 말의 의미가\n",
        "\n",
        "1. 첫 글자와 끝 글자만 같아도 회문이다.\n",
        "2. 아니다 문장을 뒤에서부터 읽었을 때와 원본 문장을 읽었을 때와 같아야 회문이다.\n",
        "\n",
        "라는 내용으로 많은 시간을 소요되었다.\n",
        "\n",
        "코드를 작성하는 데에는 큰 어려움이 없었으나 해당 논의로 인해 다른 추가적인(예외적인) 부분을 추가하지 못해 아쉬움이 남는다.\n",
        "(ex. 영문 대소문자 구분, 띄어쓰기, 특수문자 필터링 등)\n",
        "\n",
        "이에 회문이라는 말의 의미가 자세한 설명 없이는 각자 다르게 해석할 수 있음을 깨달았다.\n",
        "\n",
        "단어 뜻을 각자 알고있는대로 말하고 서로 이해하고 있는 것이 다르다면\n",
        "그 단어의 정확한 정의를 짚고 넘어가야 정상적인 프로젝트를 진행할 수 있겠다고 생각한다."
      ],
      "metadata": {
        "id": "IlkwXZRdshRU"
      }
    },
    {
      "cell_type": "code",
      "source": [],
      "metadata": {
        "id": "mtzxjEIkxXFo"
      },
      "execution_count": null,
      "outputs": []
    }
  ]
}
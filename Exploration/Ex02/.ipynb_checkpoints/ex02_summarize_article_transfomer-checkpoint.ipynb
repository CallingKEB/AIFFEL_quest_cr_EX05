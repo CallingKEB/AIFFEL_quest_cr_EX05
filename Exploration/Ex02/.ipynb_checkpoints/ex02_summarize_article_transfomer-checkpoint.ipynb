{
 "cells": [
  {
   "cell_type": "code",
   "execution_count": 83,
   "id": "a12c33d9",
   "metadata": {},
   "outputs": [
    {
     "name": "stderr",
     "output_type": "stream",
     "text": [
      "[nltk_data] Downloading package stopwords to /aiffel/nltk_data...\n",
      "[nltk_data]   Package stopwords is already up-to-date!\n"
     ]
    }
   ],
   "source": [
    "import nltk\n",
    "nltk.download('stopwords')\n",
    "\n",
    "import numpy as np\n",
    "import pandas as pd\n",
    "import os\n",
    "import re\n",
    "import matplotlib.pyplot as plt\n",
    "from nltk.corpus import stopwords\n",
    "from bs4 import BeautifulSoup \n",
    "from tensorflow.keras.preprocessing.text import Tokenizer \n",
    "from tensorflow.keras.preprocessing.sequence import pad_sequences\n",
    "import urllib.request\n",
    "import warnings\n",
    "warnings.filterwarnings(\"ignore\", category=UserWarning, module='bs4')\n",
    "\n",
    "# 인코더 설계\n",
    "from tensorflow.keras.layers import Input, LSTM, Embedding, Dense, Concatenate, TimeDistributed\n",
    "from tensorflow.keras.models import Model\n",
    "from tensorflow.keras.callbacks import EarlyStopping, ModelCheckpoint\n",
    "\n",
    "# 어텐션 메커니즘 추가\n",
    "from tensorflow.keras.layers import AdditiveAttention"
   ]
  },
  {
   "cell_type": "code",
   "execution_count": 84,
   "id": "374575af",
   "metadata": {},
   "outputs": [
    {
     "name": "stdout",
     "output_type": "stream",
     "text": [
      "전체 샘플수 : 98401\n"
     ]
    }
   ],
   "source": [
    "urllib.request.urlretrieve(\"https://raw.githubusercontent.com/sunnysai12345/News_Summary/master/news_summary_more.csv\", filename=\"news_summary_more.csv\")\n",
    "data = pd.read_csv('news_summary_more.csv', encoding='iso-8859-1')\n",
    "print('전체 샘플수 :', (len(data)))  # 샘플 확인"
   ]
  },
  {
   "cell_type": "code",
   "execution_count": 85,
   "id": "5fbb4cd0",
   "metadata": {},
   "outputs": [
    {
     "data": {
      "text/html": [
       "<div>\n",
       "<style scoped>\n",
       "    .dataframe tbody tr th:only-of-type {\n",
       "        vertical-align: middle;\n",
       "    }\n",
       "\n",
       "    .dataframe tbody tr th {\n",
       "        vertical-align: top;\n",
       "    }\n",
       "\n",
       "    .dataframe thead th {\n",
       "        text-align: right;\n",
       "    }\n",
       "</style>\n",
       "<table border=\"1\" class=\"dataframe\">\n",
       "  <thead>\n",
       "    <tr style=\"text-align: right;\">\n",
       "      <th></th>\n",
       "      <th>headlines</th>\n",
       "      <th>text</th>\n",
       "    </tr>\n",
       "  </thead>\n",
       "  <tbody>\n",
       "    <tr>\n",
       "      <th>0</th>\n",
       "      <td>upGrad learner switches to career in ML &amp; Al w...</td>\n",
       "      <td>Saurav Kant, an alumnus of upGrad and IIIT-B's...</td>\n",
       "    </tr>\n",
       "    <tr>\n",
       "      <th>1</th>\n",
       "      <td>Delhi techie wins free food from Swiggy for on...</td>\n",
       "      <td>Kunal Shah's credit card bill payment platform...</td>\n",
       "    </tr>\n",
       "    <tr>\n",
       "      <th>2</th>\n",
       "      <td>New Zealand end Rohit Sharma-led India's 12-ma...</td>\n",
       "      <td>New Zealand defeated India by 8 wickets in the...</td>\n",
       "    </tr>\n",
       "    <tr>\n",
       "      <th>3</th>\n",
       "      <td>Aegon life iTerm insurance plan helps customer...</td>\n",
       "      <td>With Aegon Life iTerm Insurance plan, customer...</td>\n",
       "    </tr>\n",
       "    <tr>\n",
       "      <th>4</th>\n",
       "      <td>Have known Hirani for yrs, what if MeToo claim...</td>\n",
       "      <td>Speaking about the sexual harassment allegatio...</td>\n",
       "    </tr>\n",
       "  </tbody>\n",
       "</table>\n",
       "</div>"
      ],
      "text/plain": [
       "                                           headlines  \\\n",
       "0  upGrad learner switches to career in ML & Al w...   \n",
       "1  Delhi techie wins free food from Swiggy for on...   \n",
       "2  New Zealand end Rohit Sharma-led India's 12-ma...   \n",
       "3  Aegon life iTerm insurance plan helps customer...   \n",
       "4  Have known Hirani for yrs, what if MeToo claim...   \n",
       "\n",
       "                                                text  \n",
       "0  Saurav Kant, an alumnus of upGrad and IIIT-B's...  \n",
       "1  Kunal Shah's credit card bill payment platform...  \n",
       "2  New Zealand defeated India by 8 wickets in the...  \n",
       "3  With Aegon Life iTerm Insurance plan, customer...  \n",
       "4  Speaking about the sexual harassment allegatio...  "
      ]
     },
     "execution_count": 85,
     "metadata": {},
     "output_type": "execute_result"
    }
   ],
   "source": [
    "data.head()  # 데이터 잘 불러왔는지 확인"
   ]
  },
  {
   "cell_type": "code",
   "execution_count": 86,
   "id": "44099f14",
   "metadata": {},
   "outputs": [
    {
     "name": "stdout",
     "output_type": "stream",
     "text": [
      "text 열의 중복 샘플 수:  41\n",
      "headlines 열의 중복 샘플 수:  121\n",
      "text 열에서 중복을 배제한 샘플 수:  98360\n",
      "headlines 열에서 중복을 배제한 샘플 수:  98280\n"
     ]
    }
   ],
   "source": [
    "# 중복값 확인\n",
    "print('text 열의 중복 샘플 수: ', data['text'].duplicated().sum())\n",
    "print('headlines 열의 중복 샘플 수: ', data['headlines'].duplicated().sum())\n",
    "\n",
    "print('text 열에서 중복을 배제한 샘플 수: ', data['text'].nunique())\n",
    "print('headlines 열에서 중복을 배제한 샘플 수: ', data['headlines'].nunique())"
   ]
  },
  {
   "cell_type": "code",
   "execution_count": 87,
   "id": "eea5807b",
   "metadata": {},
   "outputs": [
    {
     "name": "stdout",
     "output_type": "stream",
     "text": [
      "전체 샘플 수:  98360\n"
     ]
    }
   ],
   "source": [
    "# text 중복값 제거(headline은 같을 수 있으나 text 자체가 같으면 중복 샘플임)\n",
    "# inplace=True => 바꿔서 저장함(안하면 그냥 함수 적용한 내용만 보여주고 끝)\n",
    "data.drop_duplicates(subset = ['text'], inplace = True)\n",
    "print('전체 샘플 수: ', len(data))  # 98,401 -> 98,360 == 약 41개 제거"
   ]
  },
  {
   "cell_type": "code",
   "execution_count": 88,
   "id": "d26be5df",
   "metadata": {},
   "outputs": [
    {
     "name": "stdout",
     "output_type": "stream",
     "text": [
      "headlines    0\n",
      "text         0\n",
      "dtype: int64\n"
     ]
    }
   ],
   "source": [
    "# 결측값 확인\n",
    "print(data.isnull().sum())\n",
    "\n",
    "# 결측값 없음"
   ]
  },
  {
   "cell_type": "code",
   "execution_count": 89,
   "id": "030d88b7",
   "metadata": {},
   "outputs": [
    {
     "name": "stdout",
     "output_type": "stream",
     "text": [
      "정규화 사전의 수:  120\n"
     ]
    }
   ],
   "source": [
    "# 텍스트 정규화\n",
    "contractions = {\"ain't\": \"is not\", \"aren't\": \"are not\",\"can't\": \"cannot\", \"'cause\": \"because\", \"could've\": \"could have\", \"couldn't\": \"could not\",\n",
    "                           \"didn't\": \"did not\",  \"doesn't\": \"does not\", \"don't\": \"do not\", \"hadn't\": \"had not\", \"hasn't\": \"has not\", \"haven't\": \"have not\",\n",
    "                           \"he'd\": \"he would\",\"he'll\": \"he will\", \"he's\": \"he is\", \"how'd\": \"how did\", \"how'd'y\": \"how do you\", \"how'll\": \"how will\", \"how's\": \"how is\",\n",
    "                           \"I'd\": \"I would\", \"I'd've\": \"I would have\", \"I'll\": \"I will\", \"I'll've\": \"I will have\",\"I'm\": \"I am\", \"I've\": \"I have\", \"i'd\": \"i would\",\n",
    "                           \"i'd've\": \"i would have\", \"i'll\": \"i will\",  \"i'll've\": \"i will have\",\"i'm\": \"i am\", \"i've\": \"i have\", \"isn't\": \"is not\", \"it'd\": \"it would\",\n",
    "                           \"it'd've\": \"it would have\", \"it'll\": \"it will\", \"it'll've\": \"it will have\",\"it's\": \"it is\", \"let's\": \"let us\", \"ma'am\": \"madam\",\n",
    "                           \"mayn't\": \"may not\", \"might've\": \"might have\",\"mightn't\": \"might not\",\"mightn't've\": \"might not have\", \"must've\": \"must have\",\n",
    "                           \"mustn't\": \"must not\", \"mustn't've\": \"must not have\", \"needn't\": \"need not\", \"needn't've\": \"need not have\",\"o'clock\": \"of the clock\",\n",
    "                           \"oughtn't\": \"ought not\", \"oughtn't've\": \"ought not have\", \"shan't\": \"shall not\", \"sha'n't\": \"shall not\", \"shan't've\": \"shall not have\",\n",
    "                           \"she'd\": \"she would\", \"she'd've\": \"she would have\", \"she'll\": \"she will\", \"she'll've\": \"she will have\", \"she's\": \"she is\",\n",
    "                           \"should've\": \"should have\", \"shouldn't\": \"should not\", \"shouldn't've\": \"should not have\", \"so've\": \"so have\",\"so's\": \"so as\",\n",
    "                           \"this's\": \"this is\",\"that'd\": \"that would\", \"that'd've\": \"that would have\", \"that's\": \"that is\", \"there'd\": \"there would\",\n",
    "                           \"there'd've\": \"there would have\", \"there's\": \"there is\", \"here's\": \"here is\",\"they'd\": \"they would\", \"they'd've\": \"they would have\",\n",
    "                           \"they'll\": \"they will\", \"they'll've\": \"they will have\", \"they're\": \"they are\", \"they've\": \"they have\", \"to've\": \"to have\",\n",
    "                           \"wasn't\": \"was not\", \"we'd\": \"we would\", \"we'd've\": \"we would have\", \"we'll\": \"we will\", \"we'll've\": \"we will have\", \"we're\": \"we are\",\n",
    "                           \"we've\": \"we have\", \"weren't\": \"were not\", \"what'll\": \"what will\", \"what'll've\": \"what will have\", \"what're\": \"what are\",\n",
    "                           \"what's\": \"what is\", \"what've\": \"what have\", \"when's\": \"when is\", \"when've\": \"when have\", \"where'd\": \"where did\", \"where's\": \"where is\",\n",
    "                           \"where've\": \"where have\", \"who'll\": \"who will\", \"who'll've\": \"who will have\", \"who's\": \"who is\", \"who've\": \"who have\",\n",
    "                           \"why's\": \"why is\", \"why've\": \"why have\", \"will've\": \"will have\", \"won't\": \"will not\", \"won't've\": \"will not have\",\n",
    "                           \"would've\": \"would have\", \"wouldn't\": \"would not\", \"wouldn't've\": \"would not have\", \"y'all\": \"you all\",\n",
    "                           \"y'all'd\": \"you all would\",\"y'all'd've\": \"you all would have\",\"y'all're\": \"you all are\",\"y'all've\": \"you all have\",\n",
    "                           \"you'd\": \"you would\", \"you'd've\": \"you would have\", \"you'll\": \"you will\", \"you'll've\": \"you will have\",\n",
    "                           \"you're\": \"you are\", \"you've\": \"you have\"}\n",
    "\n",
    "print(\"정규화 사전의 수: \", len(contractions))"
   ]
  },
  {
   "cell_type": "code",
   "execution_count": 90,
   "id": "51f3cb59",
   "metadata": {},
   "outputs": [
    {
     "name": "stdout",
     "output_type": "stream",
     "text": [
      "불용어 개수 : 179\n",
      "['i', 'me', 'my', 'myself', 'we', 'our', 'ours', 'ourselves', 'you', \"you're\", \"you've\", \"you'll\", \"you'd\", 'your', 'yours', 'yourself', 'yourselves', 'he', 'him', 'his', 'himself', 'she', \"she's\", 'her', 'hers', 'herself', 'it', \"it's\", 'its', 'itself', 'they', 'them', 'their', 'theirs', 'themselves', 'what', 'which', 'who', 'whom', 'this', 'that', \"that'll\", 'these', 'those', 'am', 'is', 'are', 'was', 'were', 'be', 'been', 'being', 'have', 'has', 'had', 'having', 'do', 'does', 'did', 'doing', 'a', 'an', 'the', 'and', 'but', 'if', 'or', 'because', 'as', 'until', 'while', 'of', 'at', 'by', 'for', 'with', 'about', 'against', 'between', 'into', 'through', 'during', 'before', 'after', 'above', 'below', 'to', 'from', 'up', 'down', 'in', 'out', 'on', 'off', 'over', 'under', 'again', 'further', 'then', 'once', 'here', 'there', 'when', 'where', 'why', 'how', 'all', 'any', 'both', 'each', 'few', 'more', 'most', 'other', 'some', 'such', 'no', 'nor', 'not', 'only', 'own', 'same', 'so', 'than', 'too', 'very', 's', 't', 'can', 'will', 'just', 'don', \"don't\", 'should', \"should've\", 'now', 'd', 'll', 'm', 'o', 're', 've', 'y', 'ain', 'aren', \"aren't\", 'couldn', \"couldn't\", 'didn', \"didn't\", 'doesn', \"doesn't\", 'hadn', \"hadn't\", 'hasn', \"hasn't\", 'haven', \"haven't\", 'isn', \"isn't\", 'ma', 'mightn', \"mightn't\", 'mustn', \"mustn't\", 'needn', \"needn't\", 'shan', \"shan't\", 'shouldn', \"shouldn't\", 'wasn', \"wasn't\", 'weren', \"weren't\", 'won', \"won't\", 'wouldn', \"wouldn't\"]\n"
     ]
    }
   ],
   "source": [
    "# 불용어: 자주 등장하지만 요약하는 데에 별 의미 없는 단어들\n",
    "print('불용어 개수 :', len(stopwords.words('english') ))\n",
    "print(stopwords.words('english'))"
   ]
  },
  {
   "cell_type": "code",
   "execution_count": 91,
   "id": "dc9fce39",
   "metadata": {},
   "outputs": [],
   "source": [
    "# 데이터 전처리 함수\n",
    "def preprocess_sentence(sentence, remove_stopwords=True):\n",
    "    sentence = sentence.lower() # 텍스트 소문자화\n",
    "    sentence = BeautifulSoup(sentence, \"lxml\").text # <br />, <a href = ...> 등의 html 태그 제거\n",
    "    sentence = re.sub(r'\\([^)]*\\)', '', sentence) # 괄호로 닫힌 문자열 (...) 제거 Ex) my husband (and myself!) for => my husband for\n",
    "    sentence = re.sub('\"','', sentence) # 쌍따옴표 \" 제거\n",
    "    sentence = ' '.join([contractions[t] if t in contractions else t for t in sentence.split(\" \")]) # 약어 정규화\n",
    "    sentence = re.sub(r\"'s\\b\",\"\", sentence) # 소유격 제거. Ex) roland's -> roland\n",
    "    sentence = re.sub(\"[^a-zA-Z]\", \" \", sentence) # 영어 외 문자(숫자, 특수문자 등) 공백으로 변환\n",
    "    sentence = re.sub('[m]{2,}', 'mm', sentence) # m이 3개 이상이면 2개로 변경. Ex) ummmmmmm yeah -> umm yeah\n",
    "    \n",
    "    # 불용어 제거 (text)\n",
    "    if remove_stopwords:\n",
    "        tokens = ' '.join(word for word in sentence.split() if not word in stopwords.words('english') if len(word) > 1)\n",
    "    # 불용어 미제거 (headlines)\n",
    "    else:\n",
    "        tokens = ' '.join(word for word in sentence.split() if len(word) > 1)\n",
    "    return tokens"
   ]
  },
  {
   "cell_type": "code",
   "execution_count": 92,
   "id": "b5d4a54b",
   "metadata": {},
   "outputs": [
    {
     "name": "stdout",
     "output_type": "stream",
     "text": [
      "text:  everything bought great infact ordered twice third ordered wasfor mother father\n",
      "headlines: great way to start the day\n"
     ]
    }
   ],
   "source": [
    "# 전처리 함수 적용 전/후 확인\n",
    "temp_text = 'Everything I bought was great, infact I ordered twice and the third ordered was<br />for my mother and father.'\n",
    "temp_headlines = 'Great way to start (or finish) the day!!!'\n",
    "\n",
    "print(\"text: \", preprocess_sentence(temp_text))  # I, was, the 등 불용어 제거\n",
    "print(\"headlines:\", preprocess_sentence(temp_headlines, False))  # 불용어 제거x"
   ]
  },
  {
   "cell_type": "code",
   "execution_count": 93,
   "id": "b18ff8ca",
   "metadata": {},
   "outputs": [
    {
     "name": "stdout",
     "output_type": "stream",
     "text": [
      "text 전처리 후 결과:  ['saurav kant alumnus upgrad iiit pg program machine learning artificial intelligence sr systems engineer infosys almost years work experience program upgrad degree career support helped transition data scientist tech mahindra salary hike upgrad online power learning powered lakh careers', 'kunal shah credit card bill payment platform cred gave users chance win free food swiggy one year pranav kaushik delhi techie bagged reward spending cred coins users get one cred coin per rupee bill paid used avail rewards brands like ixigo bookmyshow ubereats cult fit', 'new zealand defeated india wickets fourth odi hamilton thursday win first match five match odi series india lost international match rohit sharma captaincy consecutive victories dating back march match witnessed india getting seventh lowest total odi cricket history', 'aegon life iterm insurance plan customers enjoy tax benefits premiums paid save taxes plan provides life cover age years also customers options insure critical illnesses disability accidental death benefit rider life cover age years', 'speaking sexual harassment allegations rajkumar hirani sonam kapoor said known hirani many years true metoo movement get derailed metoo movement always believe woman case need reserve judgment added hirani accused assistant worked sanju']\n"
     ]
    }
   ],
   "source": [
    "# 전체 text 데이터에 대한 전처리 : 10분 이상 소요\n",
    "clean_text = []\n",
    "\n",
    "for text in data['text']:\n",
    "    clean_text.append(preprocess_sentence(text))\n",
    "\n",
    "# 전처리 후 출력\n",
    "print(\"text 전처리 후 결과: \", clean_text[:5])"
   ]
  },
  {
   "cell_type": "code",
   "execution_count": 94,
   "id": "284451f5",
   "metadata": {},
   "outputs": [
    {
     "name": "stdout",
     "output_type": "stream",
     "text": [
      "headlines 전처리 후 결과:  ['upgrad learner switches to career in ml al with salary hike', 'delhi techie wins free food from swiggy for one year on cred', 'new zealand end rohit sharma led india match winning streak', 'aegon life iterm insurance plan helps customers save tax', 'have known hirani for yrs what if metoo claims are not true sonam']\n"
     ]
    }
   ],
   "source": [
    "# 전체 headlines 데이터에 대한 전처리 : 5분 이상 소요\n",
    "clean_headlines = []\n",
    "\n",
    "for headline in data['headlines']:\n",
    "    clean_headlines.append(preprocess_sentence(headline, remove_stopwords=False))\n",
    "\n",
    "print(\"headlines 전처리 후 결과: \", clean_headlines[:5])"
   ]
  },
  {
   "cell_type": "code",
   "execution_count": 96,
   "id": "00ec8b8b",
   "metadata": {},
   "outputs": [
    {
     "name": "stdout",
     "output_type": "stream",
     "text": [
      "headlines    0\n",
      "text         0\n",
      "dtype: int64\n"
     ]
    },
    {
     "data": {
      "text/plain": [
       "(98360, 2)"
      ]
     },
     "execution_count": 96,
     "metadata": {},
     "output_type": "execute_result"
    }
   ],
   "source": [
    "# data에 덮어씌운 후 NULL값 확인 및 처리\n",
    "data['text'] = clean_text\n",
    "data['headlines'] = clean_headlines\n",
    "\n",
    "# 빈 값을 Null 값으로 변환\n",
    "data.replace('', np.nan, inplace=True)\n",
    "print(data.isnull().sum()) # NULL값 없음\n",
    "data.shape"
   ]
  },
  {
   "cell_type": "code",
   "execution_count": 97,
   "id": "8f82e4ec",
   "metadata": {},
   "outputs": [
    {
     "name": "stdout",
     "output_type": "stream",
     "text": [
      "텍스트의 최소 길이 : 1\n",
      "텍스트의 최대 길이 : 60\n",
      "텍스트의 평균 길이 : 35.09968483123221\n",
      "헤드라인의 최소 길이 : 1\n",
      "헤드라인의 최대 길이 : 16\n",
      "헤드라인의 평균 길이 : 9.299532330215534\n"
     ]
    }
   ],
   "source": [
    "# 샘플의 최대 길이를 정하기 위해 데이터 시각화, 길이 분포 출력\n",
    "text_len = [len(s.split()) for s in data['text']]\n",
    "headlines_len = [len(s.split()) for s in data['headlines']]\n",
    "\n",
    "print('텍스트의 최소 길이 : {}'.format(np.min(text_len)))\n",
    "print('텍스트의 최대 길이 : {}'.format(np.max(text_len)))\n",
    "print('텍스트의 평균 길이 : {}'.format(np.mean(text_len)))\n",
    "print('헤드라인의 최소 길이 : {}'.format(np.min(headlines_len)))\n",
    "print('헤드라인의 최대 길이 : {}'.format(np.max(headlines_len)))\n",
    "print('헤드라인의 평균 길이 : {}'.format(np.mean(headlines_len)))"
   ]
  },
  {
   "cell_type": "code",
   "execution_count": 98,
   "id": "cd93611e",
   "metadata": {},
   "outputs": [
    {
     "data": {
      "image/png": "[encoded data removed]",
      "text/plain": [
       "<Figure size 1152x1152 with 4 Axes>"
      ]
     },
     "metadata": {
      "needs_background": "light"
     },
     "output_type": "display_data"
    }
   ],
   "source": [
    "plt.figure(figsize=(16, 16))\n",
    "plt.subplot(2,2,1)\n",
    "plt.boxplot(text_len)\n",
    "plt.title('text')\n",
    "plt.subplot(2,2,3)\n",
    "plt.boxplot(headlines_len)\n",
    "plt.title('headlines')\n",
    "plt.tight_layout()\n",
    "\n",
    "plt.subplot(2,2,2)\n",
    "plt.title('text')\n",
    "plt.hist(text_len, bins = 40)\n",
    "plt.xlabel('length of samples')\n",
    "plt.ylabel('number of samples')\n",
    "\n",
    "plt.subplot(2,2,4)\n",
    "plt.title('headlines')\n",
    "plt.hist(headlines_len, bins = 40)\n",
    "plt.xlabel('length of samples')\n",
    "plt.ylabel('number of samples')\n",
    "plt.show()"
   ]
  },
  {
   "cell_type": "code",
   "execution_count": 100,
   "id": "8e1d4c2f",
   "metadata": {},
   "outputs": [],
   "source": [
    "# 임의로 정하기\n",
    "text_max_len = 45\n",
    "headlines_max_len = 12"
   ]
  },
  {
   "cell_type": "code",
   "execution_count": 101,
   "id": "68ca806c",
   "metadata": {},
   "outputs": [],
   "source": [
    "# 훈련데이터와 샘플의 길이를 입력하면, \n",
    "# 데이터의 몇 %가 해당하는지 계산하는 함수를 만들어서 정확하게 판단해보자\n",
    "def below_threshold_len(max_len, nested_list):\n",
    "    cnt = 0\n",
    "    for s in nested_list:\n",
    "        if(len(s.split()) <= max_len):\n",
    "            cnt = cnt + 1\n",
    "    print('전체 샘플 중 길이가 %s 이하인 샘플의 비율: %s'%(max_len, (cnt / len(nested_list))))"
   ]
  },
  {
   "cell_type": "code",
   "execution_count": 102,
   "id": "54ecc06d",
   "metadata": {},
   "outputs": [
    {
     "name": "stdout",
     "output_type": "stream",
     "text": [
      "전체 샘플 중 길이가 45 이하인 샘플의 비율: 0.9967771451809678\n",
      "전체 샘플 중 길이가 12 이하인 샘플의 비율: 0.9880337535583571\n"
     ]
    }
   ],
   "source": [
    "# 함수 적용\n",
    "below_threshold_len(text_max_len, data['text'])\n",
    "below_threshold_len(headlines_max_len,  data['headlines'])"
   ]
  },
  {
   "cell_type": "code",
   "execution_count": 103,
   "id": "9f4e0d37",
   "metadata": {},
   "outputs": [
    {
     "name": "stdout",
     "output_type": "stream",
     "text": [
      "전체 샘플수 : 96871\n"
     ]
    }
   ],
   "source": [
    "# 주어진 text_max_len과 headlines_max_len보다 큰 샘플을 제외\n",
    "data = data[data['text'].apply(lambda x: len(x.split()) <= text_max_len)]\n",
    "data = data[data['headlines'].apply(lambda x: len(x.split()) <= headlines_max_len)]\n",
    "print('전체 샘플수 :', (len(data)))"
   ]
  },
  {
   "cell_type": "code",
   "execution_count": 104,
   "id": "e32e861d",
   "metadata": {},
   "outputs": [
    {
     "data": {
      "text/html": [
       "<div>\n",
       "<style scoped>\n",
       "    .dataframe tbody tr th:only-of-type {\n",
       "        vertical-align: middle;\n",
       "    }\n",
       "\n",
       "    .dataframe tbody tr th {\n",
       "        vertical-align: top;\n",
       "    }\n",
       "\n",
       "    .dataframe thead th {\n",
       "        text-align: right;\n",
       "    }\n",
       "</style>\n",
       "<table border=\"1\" class=\"dataframe\">\n",
       "  <thead>\n",
       "    <tr style=\"text-align: right;\">\n",
       "      <th></th>\n",
       "      <th>headlines</th>\n",
       "      <th>text</th>\n",
       "      <th>decoder_input</th>\n",
       "      <th>decoder_target</th>\n",
       "    </tr>\n",
       "  </thead>\n",
       "  <tbody>\n",
       "    <tr>\n",
       "      <th>0</th>\n",
       "      <td>upgrad learner switches to career in ml al wit...</td>\n",
       "      <td>saurav kant alumnus upgrad iiit pg program mac...</td>\n",
       "      <td>sostoken upgrad learner switches to career in ...</td>\n",
       "      <td>upgrad learner switches to career in ml al wit...</td>\n",
       "    </tr>\n",
       "    <tr>\n",
       "      <th>1</th>\n",
       "      <td>delhi techie wins free food from swiggy for on...</td>\n",
       "      <td>kunal shah credit card bill payment platform c...</td>\n",
       "      <td>sostoken delhi techie wins free food from swig...</td>\n",
       "      <td>delhi techie wins free food from swiggy for on...</td>\n",
       "    </tr>\n",
       "    <tr>\n",
       "      <th>2</th>\n",
       "      <td>new zealand end rohit sharma led india match w...</td>\n",
       "      <td>new zealand defeated india wickets fourth odi ...</td>\n",
       "      <td>sostoken new zealand end rohit sharma led indi...</td>\n",
       "      <td>new zealand end rohit sharma led india match w...</td>\n",
       "    </tr>\n",
       "    <tr>\n",
       "      <th>3</th>\n",
       "      <td>aegon life iterm insurance plan helps customer...</td>\n",
       "      <td>aegon life iterm insurance plan customers enjo...</td>\n",
       "      <td>sostoken aegon life iterm insurance plan helps...</td>\n",
       "      <td>aegon life iterm insurance plan helps customer...</td>\n",
       "    </tr>\n",
       "    <tr>\n",
       "      <th>5</th>\n",
       "      <td>rahat fateh ali khan denies getting notice for...</td>\n",
       "      <td>pakistani singer rahat fateh ali khan denied r...</td>\n",
       "      <td>sostoken rahat fateh ali khan denies getting n...</td>\n",
       "      <td>rahat fateh ali khan denies getting notice for...</td>\n",
       "    </tr>\n",
       "  </tbody>\n",
       "</table>\n",
       "</div>"
      ],
      "text/plain": [
       "                                           headlines  \\\n",
       "0  upgrad learner switches to career in ml al wit...   \n",
       "1  delhi techie wins free food from swiggy for on...   \n",
       "2  new zealand end rohit sharma led india match w...   \n",
       "3  aegon life iterm insurance plan helps customer...   \n",
       "5  rahat fateh ali khan denies getting notice for...   \n",
       "\n",
       "                                                text  \\\n",
       "0  saurav kant alumnus upgrad iiit pg program mac...   \n",
       "1  kunal shah credit card bill payment platform c...   \n",
       "2  new zealand defeated india wickets fourth odi ...   \n",
       "3  aegon life iterm insurance plan customers enjo...   \n",
       "5  pakistani singer rahat fateh ali khan denied r...   \n",
       "\n",
       "                                       decoder_input  \\\n",
       "0  sostoken upgrad learner switches to career in ...   \n",
       "1  sostoken delhi techie wins free food from swig...   \n",
       "2  sostoken new zealand end rohit sharma led indi...   \n",
       "3  sostoken aegon life iterm insurance plan helps...   \n",
       "5  sostoken rahat fateh ali khan denies getting n...   \n",
       "\n",
       "                                      decoder_target  \n",
       "0  upgrad learner switches to career in ml al wit...  \n",
       "1  delhi techie wins free food from swiggy for on...  \n",
       "2  new zealand end rohit sharma led india match w...  \n",
       "3  aegon life iterm insurance plan helps customer...  \n",
       "5  rahat fateh ali khan denies getting notice for...  "
      ]
     },
     "execution_count": 104,
     "metadata": {},
     "output_type": "execute_result"
    }
   ],
   "source": [
    "# 요약 데이터에 시작 토큰과 종료 토큰을 추가\n",
    "data['decoder_input'] = data['headlines'].apply(lambda x : 'sostoken '+ x)\n",
    "data['decoder_target'] = data['headlines'].apply(lambda x : x + ' eostoken')\n",
    "data.head()"
   ]
  },
  {
   "cell_type": "code",
   "execution_count": 105,
   "id": "1506ef0c",
   "metadata": {},
   "outputs": [],
   "source": [
    "encoder_input = np.array(data['text'])  # 인코더 입력\n",
    "\n",
    "decoder_input = np.array(data['decoder_input'])  # 디코더 입력\n",
    "decoder_target = np.array(data['decoder_target'])  # 디코더 레이블"
   ]
  },
  {
   "cell_type": "code",
   "execution_count": 106,
   "id": "43fe6da2",
   "metadata": {},
   "outputs": [
    {
     "name": "stdout",
     "output_type": "stream",
     "text": [
      "[47637 74444 90091 ... 66728 34390 54875]\n"
     ]
    }
   ],
   "source": [
    "# encoder_input과 크기, 형태가 같은 순서가 섞인 정수 시퀀스 생성\n",
    "indices = np.arange(encoder_input.shape[0])\n",
    "np.random.shuffle(indices)\n",
    "print(indices)"
   ]
  },
  {
   "cell_type": "code",
   "execution_count": 107,
   "id": "8ee2008d",
   "metadata": {},
   "outputs": [],
   "source": [
    "encoder_input = encoder_input[indices]\n",
    "\n",
    "decoder_input = decoder_input[indices]\n",
    "decoder_target = decoder_target[indices]"
   ]
  },
  {
   "cell_type": "code",
   "execution_count": 109,
   "id": "e7c166dc",
   "metadata": {},
   "outputs": [
    {
     "name": "stdout",
     "output_type": "stream",
     "text": [
      "분리할 테스트 데이터의 수 : 19374\n",
      "훈련 데이터의 개수 : 77497\n",
      "훈련 레이블의 개수 : 77497\n",
      "테스트 데이터의 개수 : 19374\n",
      "테스트 레이블의 개수 : 19374\n"
     ]
    }
   ],
   "source": [
    "# 섞인 데이터를 8:2의 비율로 분리\n",
    "n_of_val = int(len(encoder_input)*0.2)\n",
    "print('분리할 테스트 데이터의 수 :', n_of_val)\n",
    "\n",
    "# 정의한 test데이터의 개수를 이용해 전체 데이터를 양분\n",
    "encoder_input_train = encoder_input[:-n_of_val]\n",
    "decoder_input_train = decoder_input[:-n_of_val]\n",
    "decoder_target_train = decoder_target[:-n_of_val]\n",
    "\n",
    "encoder_input_test = encoder_input[-n_of_val:]\n",
    "decoder_input_test = decoder_input[-n_of_val:]\n",
    "decoder_target_test = decoder_target[-n_of_val:]\n",
    "\n",
    "print('훈련 데이터의 개수 :', len(encoder_input_train))\n",
    "print('훈련 레이블의 개수 :', len(decoder_input_train))\n",
    "print('테스트 데이터의 개수 :', len(encoder_input_test))\n",
    "print('테스트 레이블의 개수 :', len(decoder_input_test))"
   ]
  },
  {
   "cell_type": "code",
   "execution_count": 110,
   "id": "0f9cba6e",
   "metadata": {},
   "outputs": [],
   "source": [
    "# 토큰화\n",
    "src_tokenizer = Tokenizer()\n",
    "src_tokenizer.fit_on_texts(encoder_input_train) # 입력된 데이터로부터 단어 집합 생성"
   ]
  },
  {
   "cell_type": "code",
   "execution_count": 111,
   "id": "b0fa3aed",
   "metadata": {},
   "outputs": [
    {
     "name": "stdout",
     "output_type": "stream",
     "text": [
      "단어 집합(vocabulary)의 크기 : 69121\n",
      "등장 빈도가 6번 이하인 희귀 단어의 수: 47087\n",
      "단어 집합에서 희귀 단어를 제외시킬 경우의 단어 집합의 크기 22034\n",
      "단어 집합에서 희귀 단어의 비율: 68.12256767118531\n",
      "전체 등장 빈도에서 희귀 단어 등장 빈도 비율: 3.5159754177922964\n"
     ]
    }
   ],
   "source": [
    "threshold = 7\n",
    "total_cnt = len(src_tokenizer.word_index) # 단어의 수\n",
    "rare_cnt = 0 # 등장 빈도수가 threshold보다 작은 단어의 개수를 카운트\n",
    "total_freq = 0 # 훈련 데이터의 전체 단어 빈도수 총 합\n",
    "rare_freq = 0 # 등장 빈도수가 threshold보다 작은 단어의 등장 빈도수의 총 합\n",
    "\n",
    "# 단어와 빈도수의 쌍(pair)을 key와 value로 받는다.\n",
    "for key, value in src_tokenizer.word_counts.items():\n",
    "    total_freq = total_freq + value\n",
    "\n",
    "    # 단어의 등장 빈도수가 threshold보다 작으면\n",
    "    if(value < threshold):\n",
    "        rare_cnt = rare_cnt + 1\n",
    "        rare_freq = rare_freq + value\n",
    "\n",
    "print('단어 집합(vocabulary)의 크기 :', total_cnt)\n",
    "print('등장 빈도가 %s번 이하인 희귀 단어의 수: %s'%(threshold - 1, rare_cnt))\n",
    "print('단어 집합에서 희귀 단어를 제외시킬 경우의 단어 집합의 크기 %s'%(total_cnt - rare_cnt))\n",
    "print(\"단어 집합에서 희귀 단어의 비율:\", (rare_cnt / total_cnt)*100)\n",
    "print(\"전체 등장 빈도에서 희귀 단어 등장 빈도 비율:\", (rare_freq / total_freq)*100)"
   ]
  },
  {
   "cell_type": "code",
   "execution_count": 112,
   "id": "0ef16b1a",
   "metadata": {},
   "outputs": [],
   "source": [
    "src_vocab = 8000\n",
    "src_tokenizer = Tokenizer(num_words=src_vocab) # 단어 집합의 크기를 8,000으로 제한\n",
    "src_tokenizer.fit_on_texts(encoder_input_train) # 단어 집합 재생성"
   ]
  },
  {
   "cell_type": "code",
   "execution_count": 113,
   "id": "3ff1bce8",
   "metadata": {},
   "outputs": [
    {
     "name": "stdout",
     "output_type": "stream",
     "text": [
      "[[432, 223, 1018, 347, 352, 394, 352, 1555, 1093, 233, 812, 1195, 761, 623, 2326, 46, 352, 1700, 4981, 1, 223, 763, 6196, 126, 238, 240, 223, 1977, 1978, 1034, 225, 352], [3350, 2507, 291, 467, 2845, 59, 40, 291, 1337, 5171, 655, 148, 7838, 754, 2845, 107, 116, 2285, 2620, 1218, 549, 39, 291, 653, 3080, 371], [3135, 295, 83, 3017, 3288, 1196, 2465, 1158, 169, 5269, 1500, 975, 336, 56, 3990, 3054, 119, 1084, 929, 4227, 31, 809, 3135, 119, 1321, 709, 336, 7731, 1827, 1297, 3135, 31, 809, 580, 1251, 278, 83, 580, 614, 1297, 1251, 169]]\n"
     ]
    }
   ],
   "source": [
    "# 텍스트 시퀀스를 정수 시퀀스로 변환\n",
    "encoder_input_train = src_tokenizer.texts_to_sequences(encoder_input_train) \n",
    "encoder_input_test = src_tokenizer.texts_to_sequences(encoder_input_test)\n",
    "\n",
    "# 잘 진행되었는지 샘플 출력\n",
    "print(encoder_input_train[:3])"
   ]
  },
  {
   "cell_type": "code",
   "execution_count": 114,
   "id": "2b6a65fd",
   "metadata": {},
   "outputs": [
    {
     "name": "stdout",
     "output_type": "stream",
     "text": [
      "단어 집합(vocabulary)의 크기 : 30033\n",
      "등장 빈도가 5번 이하인 희귀 단어의 수: 19709\n",
      "단어 집합에서 희귀 단어를 제외시킬 경우의 단어 집합의 크기 10324\n",
      "단어 집합에서 희귀 단어의 비율: 65.62447973895382\n",
      "전체 등장 빈도에서 희귀 단어 등장 빈도 비율: 4.749111162589261\n"
     ]
    }
   ],
   "source": [
    "# 디코더단 토큰화\n",
    "tar_tokenizer = Tokenizer()\n",
    "tar_tokenizer.fit_on_texts(decoder_input_train)\n",
    "\n",
    "threshold = 6\n",
    "total_cnt = len(tar_tokenizer.word_index) # 단어의 수\n",
    "rare_cnt = 0 # 등장 빈도수가 threshold보다 작은 단어의 개수를 카운트\n",
    "total_freq = 0 # 훈련 데이터의 전체 단어 빈도수 총 합\n",
    "rare_freq = 0 # 등장 빈도수가 threshold보다 작은 단어의 등장 빈도수의 총 합\n",
    "\n",
    "# 단어와 빈도수의 쌍(pair)을 key와 value로 받는다.\n",
    "for key, value in tar_tokenizer.word_counts.items():\n",
    "    total_freq = total_freq + value\n",
    "\n",
    "    # 단어의 등장 빈도수가 threshold보다 작으면\n",
    "    if(value < threshold):\n",
    "        rare_cnt = rare_cnt + 1\n",
    "        rare_freq = rare_freq + value\n",
    "\n",
    "print('단어 집합(vocabulary)의 크기 :', total_cnt)\n",
    "print('등장 빈도가 %s번 이하인 희귀 단어의 수: %s'%(threshold - 1, rare_cnt))\n",
    "print('단어 집합에서 희귀 단어를 제외시킬 경우의 단어 집합의 크기 %s'%(total_cnt - rare_cnt))\n",
    "print(\"단어 집합에서 희귀 단어의 비율:\", (rare_cnt / total_cnt)*100)\n",
    "print(\"전체 등장 빈도에서 희귀 단어 등장 빈도 비율:\", (rare_freq / total_freq)*100)"
   ]
  },
  {
   "cell_type": "code",
   "execution_count": 115,
   "id": "cdf09bda",
   "metadata": {},
   "outputs": [],
   "source": [
    "# 등장 빈도가 5회 이하인 단어들은 단어 집합에서 약 77%를 차지하고 있다.\n",
    "# 하지만 실제로 훈련 데이터에서 등장 빈도로 차지하는 비중은 \n",
    "# 상대적으로 매우 적은 수치인 5.87%밖에 되지 않아, \n",
    "# 아까 했던 것과 동일하게 이 단어들은 모두 제거\n",
    "# 어림잡아 2,000을 단어 집합의 크기로 제한"
   ]
  },
  {
   "cell_type": "code",
   "execution_count": 116,
   "id": "7731a203",
   "metadata": {},
   "outputs": [],
   "source": [
    "# 디코더는 2000으로 잡자\n",
    "tar_vocab = 2000\n",
    "tar_tokenizer = Tokenizer(num_words=tar_vocab) \n",
    "tar_tokenizer.fit_on_texts(decoder_input_train)\n",
    "tar_tokenizer.fit_on_texts(decoder_target_train)"
   ]
  },
  {
   "cell_type": "code",
   "execution_count": 117,
   "id": "1b41163e",
   "metadata": {},
   "outputs": [
    {
     "name": "stdout",
     "output_type": "stream",
     "text": [
      "input\n",
      "input  [[1, 70, 11, 46, 814, 6, 1096, 545, 1330, 1248, 1046], [1, 1718, 762, 309, 1133, 5, 11, 1233, 336, 663], [1, 1006, 462, 3, 1086, 239, 1263], [1, 757, 290, 44, 165, 10, 147], [1, 675, 401, 4, 1298, 4, 1533, 330]]\n",
      "target\n",
      "decoder  [[70, 11, 46, 814, 6, 1096, 545, 1330, 1248, 1046, 2], [1718, 762, 309, 1133, 5, 11, 1233, 336, 663, 2], [1006, 462, 3, 1086, 239, 1263, 2], [757, 290, 44, 165, 10, 147, 2], [675, 401, 4, 1298, 4, 1533, 330, 2]]\n"
     ]
    }
   ],
   "source": [
    "# 텍스트 시퀀스를 정수 시퀀스로 변환\n",
    "decoder_input_train = tar_tokenizer.texts_to_sequences(decoder_input_train) \n",
    "decoder_target_train = tar_tokenizer.texts_to_sequences(decoder_target_train)\n",
    "decoder_input_test = tar_tokenizer.texts_to_sequences(decoder_input_test)\n",
    "decoder_target_test = tar_tokenizer.texts_to_sequences(decoder_target_test)\n",
    "\n",
    "# 잘 변환되었는지 확인\n",
    "print('input')\n",
    "print('input ',decoder_input_train[:5])\n",
    "print('target')\n",
    "print('decoder ',decoder_target_train[:5])"
   ]
  },
  {
   "cell_type": "code",
   "execution_count": 118,
   "id": "f0e29cd0",
   "metadata": {},
   "outputs": [
    {
     "name": "stdout",
     "output_type": "stream",
     "text": [
      "삭제할 훈련 데이터의 개수 : 12\n",
      "삭제할 테스트 데이터의 개수 : 3\n"
     ]
    }
   ],
   "source": [
    "# 혹시 빈 샘플이 있는지 확인\n",
    "drop_train = [index for index, sentence in enumerate(decoder_input_train) if len(sentence) == 1]\n",
    "drop_test = [index for index, sentence in enumerate(decoder_input_test) if len(sentence) == 1]\n",
    "\n",
    "print('삭제할 훈련 데이터의 개수 :', len(drop_train))\n",
    "print('삭제할 테스트 데이터의 개수 :', len(drop_test))"
   ]
  },
  {
   "cell_type": "code",
   "execution_count": 119,
   "id": "9c2f5c6c",
   "metadata": {},
   "outputs": [
    {
     "name": "stdout",
     "output_type": "stream",
     "text": [
      "훈련 데이터의 개수 : 77485\n",
      "훈련 레이블의 개수 : 77485\n",
      "테스트 데이터의 개수 : 19371\n",
      "테스트 레이블의 개수 : 19371\n"
     ]
    }
   ],
   "source": [
    "# train 셋\n",
    "encoder_input_train = [sentence for index, sentence in enumerate(encoder_input_train) if index not in drop_train]\n",
    "decoder_input_train = [sentence for index, sentence in enumerate(decoder_input_train) if index not in drop_train]\n",
    "decoder_target_train = [sentence for index, sentence in enumerate(decoder_target_train) if index not in drop_train]\n",
    "\n",
    "# test 셋\n",
    "encoder_input_test = [sentence for index, sentence in enumerate(encoder_input_test) if index not in drop_test]\n",
    "decoder_input_test = [sentence for index, sentence in enumerate(decoder_input_test) if index not in drop_test]\n",
    "decoder_target_test = [sentence for index, sentence in enumerate(decoder_target_test) if index not in drop_test]\n",
    "\n",
    "print('훈련 데이터의 개수 :', len(encoder_input_train))\n",
    "print('훈련 레이블의 개수 :', len(decoder_input_train))\n",
    "print('테스트 데이터의 개수 :', len(encoder_input_test))\n",
    "print('테스트 레이블의 개수 :', len(decoder_input_test))"
   ]
  },
  {
   "cell_type": "code",
   "execution_count": 120,
   "id": "964e2ea5",
   "metadata": {},
   "outputs": [],
   "source": [
    "# 패딩\n",
    "encoder_input_train = pad_sequences(encoder_input_train, maxlen=text_max_len, padding='post')\n",
    "encoder_input_test = pad_sequences(encoder_input_test, maxlen=text_max_len, padding='post')\n",
    "decoder_input_train = pad_sequences(decoder_input_train, maxlen=headlines_max_len, padding='post')\n",
    "decoder_target_train = pad_sequences(decoder_target_train, maxlen=headlines_max_len, padding='post')\n",
    "decoder_input_test = pad_sequences(decoder_input_test, maxlen=headlines_max_len, padding='post')\n",
    "decoder_target_test = pad_sequences(decoder_target_test, maxlen=headlines_max_len, padding='post')"
   ]
  },
  {
   "cell_type": "code",
   "execution_count": 146,
   "id": "59bc5bf6",
   "metadata": {},
   "outputs": [],
   "source": [
    "# 인코더 설계 시작\n",
    "embedding_dim = 128\n",
    "hidden_size = 256\n",
    "\n",
    "# 인코더\n",
    "encoder_inputs = Input(shape=(text_max_len,))\n",
    "\n",
    "# 인코더의 임베딩 층\n",
    "enc_emb = Embedding(src_vocab, embedding_dim)(encoder_inputs)\n",
    "\n",
    "# 인코더의 LSTM 1\n",
    "encoder_lstm1 = LSTM(hidden_size, return_sequences=True, return_state=True ,dropout = 0.5)\n",
    "encoder_output1, state_h1, state_c1 = encoder_lstm1(enc_emb)\n",
    "\n",
    "# 인코더의 LSTM 2\n",
    "encoder_lstm2 = LSTM(hidden_size, return_sequences=True, return_state=True, dropout=0.5)\n",
    "encoder_output2, state_h2, state_c2 = encoder_lstm2(encoder_output1)\n",
    "\n",
    "# 인코더의 LSTM 3\n",
    "encoder_lstm3 = LSTM(hidden_size, return_sequences=True, return_state=True, dropout=0.5)\n",
    "encoder_outputs, state_h, state_c = encoder_lstm3(encoder_output2)"
   ]
  },
  {
   "cell_type": "code",
   "execution_count": 147,
   "id": "d5dbf6db",
   "metadata": {},
   "outputs": [],
   "source": [
    "# 디코더 설계\n",
    "decoder_inputs = Input(shape=(None,))\n",
    "\n",
    "# 디코더의 임베딩 층\n",
    "dec_emb_layer = Embedding(tar_vocab, embedding_dim)\n",
    "dec_emb = dec_emb_layer(decoder_inputs)\n",
    "\n",
    "# 디코더의 LSTM\n",
    "decoder_lstm = LSTM(hidden_size, return_sequences=True, return_state=True, dropout=0.5)\n",
    "decoder_outputs, _, _ = decoder_lstm(dec_emb, initial_state=[state_h, state_c])\n",
    "\n",
    "# 디코더의 출력층\n",
    "decoder_softmax_layer = Dense(tar_vocab, activation='softmax')\n",
    "decoder_softmax_outputs = decoder_softmax_layer(decoder_outputs)"
   ]
  },
  {
   "cell_type": "code",
   "execution_count": 148,
   "id": "8860977b",
   "metadata": {},
   "outputs": [],
   "source": [
    "# 모델 정의\n",
    "model = Model([encoder_inputs, decoder_inputs], decoder_softmax_outputs)"
   ]
  },
  {
   "cell_type": "code",
   "execution_count": 149,
   "id": "b19afaf7",
   "metadata": {},
   "outputs": [],
   "source": [
    "# 어텐션 층(어텐션 함수)\n",
    "attn_layer = AdditiveAttention(name='attention_layer')\n",
    "\n",
    "# 인코더와 디코더의 모든 time step의 hidden state를 어텐션 층에 전달하고 결과를 리턴\n",
    "attn_out = attn_layer([decoder_outputs, encoder_outputs])\n",
    "\n",
    "\n",
    "# 어텐션의 결과와 디코더의 hidden state들을 연결\n",
    "decoder_concat_input = Concatenate(axis=-1, name='concat_layer')([decoder_outputs, attn_out])\n",
    "\n",
    "# 디코더의 출력층\n",
    "decoder_softmax_layer = Dense(tar_vocab, activation='softmax')\n",
    "decoder_softmax_outputs = decoder_softmax_layer(decoder_concat_input)\n"
   ]
  },
  {
   "cell_type": "code",
   "execution_count": 150,
   "id": "172b7978",
   "metadata": {},
   "outputs": [
    {
     "name": "stdout",
     "output_type": "stream",
     "text": [
      "Model: \"model_11\"\n",
      "__________________________________________________________________________________________________\n",
      "Layer (type)                    Output Shape         Param #     Connected to                     \n",
      "==================================================================================================\n",
      "input_13 (InputLayer)           [(None, 45)]         0                                            \n",
      "__________________________________________________________________________________________________\n",
      "embedding_6 (Embedding)         (None, 45, 128)      1024000     input_13[0][0]                   \n",
      "__________________________________________________________________________________________________\n",
      "lstm_12 (LSTM)                  [(None, 45, 256), (N 394240      embedding_6[0][0]                \n",
      "__________________________________________________________________________________________________\n",
      "input_14 (InputLayer)           [(None, None)]       0                                            \n",
      "__________________________________________________________________________________________________\n",
      "lstm_13 (LSTM)                  [(None, 45, 256), (N 525312      lstm_12[0][0]                    \n",
      "__________________________________________________________________________________________________\n",
      "embedding_7 (Embedding)         (None, None, 128)    256000      input_14[0][0]                   \n",
      "__________________________________________________________________________________________________\n",
      "lstm_14 (LSTM)                  [(None, 45, 256), (N 525312      lstm_13[0][0]                    \n",
      "__________________________________________________________________________________________________\n",
      "lstm_15 (LSTM)                  [(None, None, 256),  394240      embedding_7[0][0]                \n",
      "                                                                 lstm_14[0][1]                    \n",
      "                                                                 lstm_14[0][2]                    \n",
      "__________________________________________________________________________________________________\n",
      "attention_layer (AdditiveAttent (None, None, 256)    256         lstm_15[0][0]                    \n",
      "                                                                 lstm_14[0][0]                    \n",
      "__________________________________________________________________________________________________\n",
      "concat_layer (Concatenate)      (None, None, 512)    0           lstm_15[0][0]                    \n",
      "                                                                 attention_layer[0][0]            \n",
      "__________________________________________________________________________________________________\n",
      "dense_7 (Dense)                 (None, None, 2000)   1026000     concat_layer[0][0]               \n",
      "==================================================================================================\n",
      "Total params: 4,145,360\n",
      "Trainable params: 4,145,360\n",
      "Non-trainable params: 0\n",
      "__________________________________________________________________________________________________\n"
     ]
    }
   ],
   "source": [
    "# 모델 정의\n",
    "model = Model([encoder_inputs, decoder_inputs], decoder_softmax_outputs)\n",
    "model.summary()"
   ]
  },
  {
   "cell_type": "code",
   "execution_count": null,
   "id": "deeb84e8",
   "metadata": {},
   "outputs": [
    {
     "name": "stdout",
     "output_type": "stream",
     "text": [
      "Epoch 1/50\n",
      "303/303 [==============================] - 27s 72ms/step - loss: 3.9972 - val_loss: 3.7470\n",
      "Epoch 2/50\n",
      "303/303 [==============================] - 21s 70ms/step - loss: 3.6960 - val_loss: 3.6152\n",
      "Epoch 3/50\n",
      "303/303 [==============================] - 22s 72ms/step - loss: 3.5112 - val_loss: 3.3683\n",
      "Epoch 4/50\n",
      "303/303 [==============================] - ETA: 0s - loss: 3.2410"
     ]
    }
   ],
   "source": [
    "# 모델 컴파일 및 학습\n",
    "model.compile(optimizer='Adam', loss='sparse_categorical_crossentropy')\n",
    "es = EarlyStopping(monitor='val_loss', patience=2, verbose=1)\n",
    "history = model.fit(x=[encoder_input_train, decoder_input_train], y=decoder_target_train, \\\n",
    "          validation_data=([encoder_input_test, decoder_input_test], decoder_target_test), \\\n",
    "          batch_size=256, callbacks=[es], epochs=50)"
   ]
  },
  {
   "cell_type": "code",
   "execution_count": 137,
   "id": "96a0147b",
   "metadata": {},
   "outputs": [
    {
     "data": {
      "image/png": "[encoded data removed]",
      "text/plain": [
       "<Figure size 432x288 with 1 Axes>"
      ]
     },
     "metadata": {
      "needs_background": "light"
     },
     "output_type": "display_data"
    }
   ],
   "source": [
    "# 시각화\n",
    "plt.plot(history.history['loss'], label='train')\n",
    "plt.plot(history.history['val_loss'], label='test')\n",
    "plt.legend()\n",
    "plt.show()"
   ]
  },
  {
   "cell_type": "code",
   "execution_count": 138,
   "id": "c6fb97b5",
   "metadata": {},
   "outputs": [],
   "source": [
    "# 정수 인덱스 행렬로 존재하던 데이터를 복원\n",
    "src_index_to_word = src_tokenizer.index_word # 원문 단어 집합에서 정수 -> 단어를 얻음\n",
    "tar_word_to_index = tar_tokenizer.word_index # 요약 단어 집합에서 단어 -> 정수를 얻음\n",
    "tar_index_to_word = tar_tokenizer.index_word # 요약 단어 집합에서 정수 -> 단어를 얻음"
   ]
  },
  {
   "cell_type": "code",
   "execution_count": 139,
   "id": "0060d16d",
   "metadata": {},
   "outputs": [],
   "source": [
    "# 인코더 설계\n",
    "encoder_model = Model(inputs=encoder_inputs, outputs=[encoder_outputs, state_h, state_c])"
   ]
  },
  {
   "cell_type": "code",
   "execution_count": 140,
   "id": "9850d8a6",
   "metadata": {},
   "outputs": [],
   "source": [
    "# 이전 시점의 상태들을 저장하는 텐서\n",
    "decoder_state_input_h = Input(shape=(hidden_size,))\n",
    "decoder_state_input_c = Input(shape=(hidden_size,))\n",
    "\n",
    "dec_emb2 = dec_emb_layer(decoder_inputs)\n",
    "\n",
    "# 문장의 다음 단어를 예측하기 위해서 초기 상태(initial_state)를 이전 시점의 상태로 사용.\n",
    "# 이는 뒤의 함수 decode_sequence()에 구현\n",
    "# 훈련 과정에서와 달리 LSTM의 리턴하는 은닉 상태와 셀 상태인 state_h와 state_c를 버리지 않음.\n",
    "decoder_outputs2, state_h2, state_c2 = decoder_lstm(dec_emb2, initial_state=[decoder_state_input_h, decoder_state_input_c])\n",
    "\n",
    "# 어텐션 메커니즘을 사용하는 출력층을 설계\n",
    "# 어텐션 함수\n",
    "decoder_hidden_state_input = Input(shape=(text_max_len, hidden_size))\n",
    "attn_out_inf = attn_layer([decoder_outputs2, decoder_hidden_state_input])\n",
    "decoder_inf_concat = Concatenate(axis=-1, name='concat')([decoder_outputs2, attn_out_inf])\n",
    "\n",
    "# 디코더의 출력층\n",
    "decoder_outputs2 = decoder_softmax_layer(decoder_inf_concat)\n",
    "\n",
    "# 최종 디코더 모델\n",
    "decoder_model = Model(\n",
    "    [decoder_inputs] + [decoder_hidden_state_input,decoder_state_input_h, decoder_state_input_c],\n",
    "    [decoder_outputs2] + [state_h2, state_c2])"
   ]
  },
  {
   "cell_type": "code",
   "execution_count": 141,
   "id": "fcfa719e",
   "metadata": {},
   "outputs": [],
   "source": [
    "# 인퍼런스 단계에서 단어 시퀀스를 완성하는 함수\n",
    "def decode_sequence(input_seq):\n",
    "    # 입력으로부터 인코더의 상태를 얻음\n",
    "    e_out, e_h, e_c = encoder_model.predict(input_seq)\n",
    "\n",
    "     # <SOS>에 해당하는 토큰 생성\n",
    "    target_seq = np.zeros((1,1))\n",
    "    target_seq[0, 0] = tar_word_to_index['sostoken']\n",
    "\n",
    "    stop_condition = False\n",
    "    decoded_sentence = ''\n",
    "    while not stop_condition: # stop_condition이 True가 될 때까지 루프 반복\n",
    "\n",
    "        output_tokens, h, c = decoder_model.predict([target_seq] + [e_out, e_h, e_c])\n",
    "        sampled_token_index = np.argmax(output_tokens[0, -1, :])\n",
    "        sampled_token = tar_index_to_word[sampled_token_index]\n",
    "\n",
    "        if (sampled_token!='eostoken'):\n",
    "            decoded_sentence += ' '+sampled_token\n",
    "\n",
    "        #  <eos>에 도달하거나 최대 길이를 넘으면 중단.\n",
    "        if (sampled_token == 'eostoken'  or len(decoded_sentence.split()) >= (headlines_max_len-1)):\n",
    "            stop_condition = True\n",
    "\n",
    "        # 길이가 1인 타겟 시퀀스를 업데이트\n",
    "        target_seq = np.zeros((1,1))\n",
    "        target_seq[0, 0] = sampled_token_index\n",
    "\n",
    "        # 상태를 업데이트 합니다.\n",
    "        e_h, e_c = h, c\n",
    "\n",
    "    return decoded_sentence\n",
    "\n",
    "# 원문의 정수 시퀀스를 텍스트 시퀀스로 변환\n",
    "def seq2text(input_seq):\n",
    "    temp=''\n",
    "    for i in input_seq:\n",
    "        if (i!=0):\n",
    "            temp = temp + src_index_to_word[i]+' '\n",
    "    return temp\n",
    "\n",
    "# 요약문의 정수 시퀀스를 텍스트 시퀀스로 변환\n",
    "def seq2summary(input_seq):\n",
    "    temp = ''\n",
    "    for i in input_seq:\n",
    "        if (i == 0):\n",
    "            continue\n",
    "        if (i == tar_word_to_index['eostoken']):\n",
    "            break\n",
    "        if (i != tar_word_to_index['sostoken']):\n",
    "            temp = temp + tar_index_to_word[i] + ' '\n",
    "    return temp.strip()"
   ]
  },
  {
   "cell_type": "code",
   "execution_count": 142,
   "id": "dbb30945",
   "metadata": {},
   "outputs": [
    {
     "name": "stdout",
     "output_type": "stream",
     "text": [
      "원문 : london court order allowing enforcement agencies vijay mallya assets uk state bank india md basu said landmark order assets held mallya overseas india aim get maximum property corporate assets basu added \n",
      "실제 요약 : it is order to vijay mallya assets sbi\n",
      "예측 요약 :  mallya will be vijay mallya london\n",
      "\n",
      "\n",
      "원문 : facebook paid million acquire internet address com domain acquired american farm bureau federation bought internal use company employees notably social networking site originally named facebook launched february \n",
      "실제 요약 : facebook paid crore to fb\n",
      "예측 요약 :  facebook pays mn to ads in\n",
      "\n",
      "\n",
      "원문 : asked whether makers upcoming film accidental prime minister would comply special screening congress anupam kher said special screening congress maharashtra youth congress announced allow film screened demand prior screening met \n",
      "실제 요약 : no special for cong on the\n",
      "예측 요약 :  makers of congress\n",
      "\n",
      "\n",
      "원문 : ten tribal students including girls attempt scale world highest peak mount everest maharashtra government mission project students underwent eight month training learn leave day mission thursday aim project tap potential promote talent various fields among tribal youth officials said \n",
      "실제 요약 : students from maharashtra to\n",
      "예측 요약 :  girls in world largest school for kids\n",
      "\n",
      "\n",
      "원문 : telecom body said expects mobile services become owing absence government said mobile tower expected coming fiscal tax sought extension tax benefits granted non telecom infrastructure firms amendments gst \n",
      "실제 요약 : services cost may rise in of tax relief\n",
      "예측 요약 :  mobile to customers in\n",
      "\n",
      "\n",
      "원문 : cellular operators association india asked censor board certification suspend release rajinikanth starrer movie falsely mobile phones mobile towers harmful living environment account field emissions cellular body said added anti scientific \n",
      "실제 요약 : body asks board to stop release of rajinikanth\n",
      "예측 요약 :  why is the content makers\n",
      "\n",
      "\n",
      "원문 : man austria set guinness world record four motorcycles hands feet motorcycles facing four different directions tied austrian rock hands feet successful record attempt motorcycles seconds managed set world record longest duration four motorcycles \n",
      "실제 요약 : man sets record by with hands feet\n",
      "예측 요약 :  man sets record for most sets of\n",
      "\n",
      "\n",
      "원문 : gujarat police filed charges patidar leader hardik patel six others peace breaking law holding rally despite given permission patidar leader holding protest rallies across state since past two years sometimes reportedly held without permission charged \n",
      "실제 요약 : hardik patel booked after rally without\n",
      "예측 요약 :  hardik patel booked for anti leaders\n",
      "\n",
      "\n",
      "원문 : pacer bhuvneshwar kumar made phone call young indian fan spotted crying stands following tuesday india afghanistan tied asia cup match fan father said really kind bhuvneshwar reaction fan india tie gone viral social media \n",
      "실제 요약 : calls young fan to him up after india\n",
      "예측 요약 :  khan shares video of india fan of india\n",
      "\n",
      "\n",
      "원문 : patanjali ayurved managing director acharya said company accounts around india total food processing three years want take added said patanjali invested around crore last fiscal total investments food processing industry india \n",
      "실제 요약 : patanjali accounts for of india food md\n",
      "예측 요약 :  india will be in india\n",
      "\n",
      "\n",
      "원문 : gujarat chief minister vijay rupani wednesday tweeted upcoming sanjay leela bhansali directorial padmavati allowed release state elections could law order situation many sections opposed rupani added said foul play great culture \n",
      "실제 요약 : will not allow padmavati to release in gujarat cm\n",
      "예측 요약 :  gujarat cm calls padmavati release\n",
      "\n",
      "\n",
      "원문 : australia planning build first prison militants extremist views prevent inmates move comes shooting hostage situation melbourne claimed islamic state jail expected house inmates include facilities audio cctv improve intelligence gathering \n",
      "실제 요약 : australia to build st terrorist jail to stop\n",
      "예측 요약 :  australia to use of in attack\n",
      "\n",
      "\n",
      "원문 : enforcement directorate tuesday registered case aiadmk leader ttv dhinakaran prevention money laundering act allegedly election commission official get aiadmk two leaves symbol dhinakaran nephew jailed party general secretary vk sasikala aide monday sent judicial custody till may \n",
      "실제 요약 : aiadmk case ed books for money\n",
      "예측 요약 :  ed raids aiadmk leader\n",
      "\n",
      "\n",
      "원문 : songs hollywood film lake fire composed group student ar rahman music academy best original song category oscars two songs starrer malayalam film also featured list songs \n",
      "실제 요약 : by music students in\n",
      "예측 요약 :  to be in\n",
      "\n",
      "\n",
      "원문 : ikea stopped selling first indian store hyderabad days found fine local civic body supplier also served notice ikea resume sale items review process taking actions needed \n",
      "실제 요약 : stops selling at hyd store after found\n",
      "예측 요약 :  watch store in hyderabad\n",
      "\n",
      "\n",
      "원문 : punjab cm amarinder singh others acquitted charges friday amritsar improvement trust scam case case involved granting exemption acre land private developer politics place motivated action opponents cm tweeted verdict \n",
      "실제 요약 : punjab cm in scam case\n",
      "예측 요약 :  punjab cm singh in\n",
      "\n",
      "\n",
      "원문 : year old dalit youth andhra pradesh allegedly beaten death father uncle upper caste girl affair police said girl family called victim house started beating threw body railway tracks make look like suicide \n",
      "실제 요약 : dalit youth killed by girl father over\n",
      "예측 요약 :  mp man beaten to death for not to girl\n",
      "\n",
      "\n",
      "원문 : congress chhattisgarh charge said party fight upcoming assembly elections state added received proposal bahujan samaj party alliance comes bsp supremo mayawati announced party contest assembly polls alliance ajit led congress chhattisgarh party \n",
      "실제 요약 : had bsp proposal but will fight chhattisgarh polls cong\n",
      "예측 요약 :  congress to form party in taka\n",
      "\n",
      "\n",
      "원문 : unilever dutch maker agreed buy vegetarian dutch producer plant based meat company products include sold stores countries ninth generation meat farmer became vegetarian founded vegetarian \n",
      "실제 요약 : maker buys fake company the\n",
      "예측 요약 :  maker to use of\n",
      "\n",
      "\n",
      "원문 : pakistan railways dismissed dera khan runs combined two innings registering first innings first class match ended december pakistan railways winning margin innings runs biggest first class victory ever match witnessed triple ton double hundred two hundreds \n",
      "실제 요약 : team once took for after in innings\n",
      "예측 요약 :  pak batsman hits runs in innings in\n",
      "\n",
      "\n",
      "원문 : chinese electronics company unveiled smartphone zero sim card speaker device inch display contains pressure touch panels give feedback serve screen serve speaker use instead physical sim \n",
      "실제 요약 : makes smartphone without card\n",
      "예측 요약 :  chinese smartphone with unveiled\n",
      "\n",
      "\n",
      "원문 : bjp national president amit shah admitted aiims treatment diagnosed flu wednesday flu treated recover soon god grace love well wishes shah tweeted reportedly admitted aiims following complaints chest congestion breathing problems \n",
      "실제 요약 : bjp president amit shah with to\n",
      "예측 요약 :  amit shah to be in\n",
      "\n",
      "\n",
      "원문 : many women across telangana reportedly protesting poor quality gifted cm chandrashekar rao burning women threw others used clean vehicles reports said state government called incidents protests opposition parties \n",
      "실제 요약 : telangana women poor by cm\n",
      "예측 요약 :  women protest against mp cm over car\n",
      "\n",
      "\n",
      "원문 : talking best initiative us first lady melania trump thursday said could say person world melania said campaign social media online behaviour people saying added children need educated issues well \n",
      "실제 요약 : am the most person in the world says trump\n",
      "예측 요약 :  trump is the most people\n",
      "\n",
      "\n",
      "원문 : caught smuggling nearly kuwait wednesday customs officials suspect came iraq caught building near customs department drugs found hidden small strapped onto back \n",
      "실제 요약 : caught illegal drugs into\n",
      "예측 요약 :  of in\n",
      "\n",
      "\n",
      "원문 : opener rohit sharma slammed india defeated england first odi thursday mark virat kohli th odi captain victory take series lead match witnessed kuldeep yadav register fourth best odi figures indian bowler kohli led india victories odis \n",
      "실제 요약 : india beat england in kohli th odi as captain lead\n",
      "예측 요약 :  rohit sharma slams india in th odi series\n",
      "\n",
      "\n",
      "원문 : ufc champion conor mcgregor threw boxer floyd mayweather fight compared mayweather previous opponent threw mayweather managed land fight century mayweather defeated mcgregor richest fight history \n",
      "실제 요약 : more on than\n"
     ]
    },
    {
     "name": "stdout",
     "output_type": "stream",
     "text": [
      "예측 요약 :  player takes off to break off\n",
      "\n",
      "\n",
      "원문 : speaking eve jawaharlal nehru birth anniversary congress mp shashi tharoor tuesday said pm made possible create institutional structures indian highest office land alleged campaign amount lies internet nehru \n",
      "실제 요약 : we have as pm as made it tharoor\n",
      "예측 요약 :  indian pm modi to be built in\n",
      "\n",
      "\n",
      "원문 : india second largest airline jet airways reported net profit march quarter hurt higher aircraft fuel expenses net profit fourth quarter came crore compared profit crore year earlier expenses aircraft fuel increased quarter company said tuesday \n",
      "실제 요약 : jet airways profit falls due to high fuel\n",
      "예측 요약 :  jet airways posts quarter profit falls to crore\n",
      "\n",
      "\n",
      "원문 : stating fuel price hike due reduced production oil organisation petroleum countries oil minister dharmendra pradhan assured solution soon said rising prices hand notably petrol diesel prices record high per litre respectively delhi \n",
      "실제 요약 : to fuel prices soon oil minister\n",
      "예측 요약 :  petrol prices by diesel by\n",
      "\n",
      "\n",
      "원문 : french company al paris named global director artist created runway looks editorial coverage major fashion apart working celebrities including taylor swift lady cannot wait get inside science labs number one beauty brand co create make said \n",
      "실제 요약 : named global director for or al paris\n",
      "예측 요약 :  paris firm changes\n",
      "\n",
      "\n",
      "원문 : winter olympics part event wherein participants medals awarded demonstration sport never returned winter olympics dogs seen winter olympics taking part demonstration sport dog racing \n",
      "실제 요약 : and dogs once in the winter olympics\n",
      "예측 요약 :  olympic champ apologises for nobel medal\n",
      "\n",
      "\n",
      "원문 : denying reports bjp seeking delay release padmavati ahead gujarat elections spokesperson party said truth talk earlier reported bjp written election commission censor board centre seeking stop film release temporarily \n",
      "실제 요약 : bjp denies report of padmavati release\n",
      "예측 요약 :  bjp demands of bjp in gujarat theatres\n",
      "\n",
      "\n",
      "원문 : sikkim chief minister pawan sunday became longest serving chief minister india surpassing record basu served west bengal cm became chief minister december belongs sikkim democratic front landmark people sikkim said \n",
      "실제 요약 : chief minister becomes india longest cm\n",
      "예측 요약 :  cm kumar longest cm\n",
      "\n",
      "\n",
      "원문 : ram one main accused kathua rape murder case told police learnt rape four days victim abduction planned murder save son son juvenile nephew accused raping year old victim ram temple girl allegedly kept \n",
      "실제 요약 : kathua accused victim murder to save son police\n",
      "예측 요약 :  ram rahim rape accused of murder\n",
      "\n",
      "\n",
      "원문 : actress katrina kaif sister kaif set make debut bollywood film titled time dance star opposite actor dance film reportedly play dancer film seen playing street dancer \n",
      "실제 요약 : katrina sister to debut in wood with time to dance\n",
      "예측 요약 :  katrina to star in debut film\n",
      "\n",
      "\n",
      "원문 : police thursday booked man mumbai hurting religious feelings comment made facebook shiv sena founder bal thackeray reportedly man commented abuses post praising thackeray stand terrorism earlier two girls arrested expressing facebook bandh thackeray death \n",
      "실제 요약 : mumbai man booked for facebook post against thackeray\n",
      "예측 요약 :  man booked for calling lord ram\n",
      "\n",
      "\n",
      "원문 : india proposed introduce million tariffs list items imported us india asked us tariffs steel aluminium us rejected request india notified world trade organisation list including motorcycles intends impose tariffs \n",
      "실제 요약 : india proposes mn on us products\n",
      "예측 요약 :  india to be to us\n",
      "\n",
      "\n",
      "원문 : nawazuddin siddiqui paid featuring sachin ad campaign played role talking kind roles used get early career said either thief people felt yeh hai ke roles nawazuddin turned today \n",
      "실제 요약 : nawazuddin was paid for playing in ad\n",
      "예측 요약 :  nawazuddin pays to his music code for his films\n",
      "\n",
      "\n",
      "원문 : chinese smartphone maker thursday said acquired acres land uttar pradesh spend crore set second plant india new land acquired near existing acre manufacturing facility greater noida entered india mobile market \n",
      "실제 요약 : china buys land in up to invest crore\n",
      "예측 요약 :  buys land for world largest road project\n",
      "\n",
      "\n",
      "원문 : uber agreed pay million settle class action lawsuit accused ride hailing startup female minority employees lawsuit alleged american indian african american employees receive lower performance scores resulting lost earnings promotions benefits uber also agreed change manages compensation promotion \n",
      "실제 요약 : uber to pay million to\n",
      "예측 요약 :  uber to pay lawsuit over lawsuit\n",
      "\n",
      "\n",
      "원문 : sonu nigam denying report asked khan tweet support tweeted mother know personally report claimed sonu wanted support row meanwhile also denied report slammed news website false reporting \n",
      "실제 요약 : on my mother did not ask for\n",
      "예측 요약 :  denies rumours of being asked to show\n",
      "\n",
      "\n",
      "원문 : bjp mp subramanian swamy tuesday tweeted violence union must also impose emergency article valley fire away remark came students security forces stone pelting kashmir clashes erupted colleges universities opened week \n",
      "실제 요약 : emergency in and fire away swamy\n",
      "예측 요약 :  swamy blames emergency for\n",
      "\n",
      "\n",
      "원문 : west bengal cm mamata banerjee inaugurated state first floating market located lake kolkata market established estimated cost crore aimed displaced infrastructure development city boats market sell fruits vegetables fish among produce \n",
      "실제 요약 : west bengal first market opens in kolkata\n",
      "예측 요약 :  mamata becomes taj mahal\n",
      "\n",
      "\n",
      "원문 : doctors reported birth healthy baby brazil born last december mother received transplant year old deceased woman mother born without aged transplant comes previously known cases deceased failed produce live birth \n",
      "실제 요약 : world first baby born via from dead woman\n",
      "예측 요약 :  gives birth to baby girl\n",
      "\n",
      "\n",
      "원문 : indian cricket team played first odi years ago july played odis cricket history india played odis till date winning success rate india first odi overs side game england former lost four wickets \n",
      "실제 요약 : india has played most odis in cricket history\n",
      "예측 요약 :  india st ever odi to take odi in odis\n",
      "\n",
      "\n",
      "원문 : london based side crystal palace offering hot meals breakfast homeless club home park stadium temperatures forecast drop freezing coming week club working initiative local organisation opened doors thursday bring eight people streets \n",
      "실제 요약 : club to shelter at stadium in\n",
      "예측 요약 :  london to open free\n",
      "\n",
      "\n",
      "원문 : prime minister narendra modi along israeli pm benjamin netanyahu wife sara netanyahu wednesday flew ashram ahmedabad also paid tribute mahatma gandhi ashram later centre village visit centre vegetables \n",
      "실제 요약 : pm modi israeli pm fly at\n",
      "예측 요약 :  pm modi meets israeli pm in\n",
      "\n",
      "\n",
      "원문 : responding uber co founder travis kalanick decision appoint two board directors uber said came complete surprise kalanick friday appointed former corporation ceo burns former ceo john statement kalanick said appointment comes light recent board proposal significantly company voting rights \n",
      "실제 요약 : it is uber on\n",
      "예측 요약 :  uber board member of\n",
      "\n",
      "\n",
      "원문 : jharkhand player revealed skipper ms dhoni sent text message team members asking keep calm major fire hotel friday morning even bhai unable come really know everything dark leave gear behind said \n",
      "실제 요약 : dhoni sent to team during fire jharkhand player\n",
      "예측 요약 :  dhoni urges fans to sleep with him\n",
      "\n",
      "\n"
     ]
    }
   ],
   "source": [
    "# 요약문 출력\n",
    "for i in range(50, 100):\n",
    "    print(\"원문 :\", seq2text(encoder_input_test[i]))\n",
    "    print(\"실제 요약 :\", seq2summary(decoder_input_test[i]))\n",
    "    print(\"예측 요약 :\", decode_sequence(encoder_input_test[i].reshape(1, text_max_len)))\n",
    "    print(\"\\n\")"
   ]
  },
  {
   "cell_type": "code",
   "execution_count": 145,
   "id": "e91aa38f",
   "metadata": {},
   "outputs": [
    {
     "name": "stdout",
     "output_type": "stream",
     "text": [
      "원문 : saurav kant alumnus upgrad iiit pg program machine learning artificial intelligence sr systems engineer infosys almost years work experience program upgrad degree career support helped transition data scientist tech mahindra salary hike upgrad online power learning powered lakh careers\n",
      "실제 요약 : upgrad learner switches to career in ml al with salary hike\n",
      "추출적 요약 : \n",
      "\n",
      "\n",
      "원문 : kunal shah credit card bill payment platform cred gave users chance win free food swiggy one year pranav kaushik delhi techie bagged reward spending cred coins users get one cred coin per rupee bill paid used avail rewards brands like ixigo bookmyshow ubereats cult fit\n",
      "실제 요약 : delhi techie wins free food from swiggy for one year on cred\n",
      "추출적 요약 : \n",
      "\n",
      "\n",
      "원문 : new zealand defeated india wickets fourth odi hamilton thursday win first match five match odi series india lost international match rohit sharma captaincy consecutive victories dating back march match witnessed india getting seventh lowest total odi cricket history\n",
      "실제 요약 : new zealand end rohit sharma led india match winning streak\n",
      "추출적 요약 : \n",
      "\n",
      "\n",
      "원문 : aegon life iterm insurance plan customers enjoy tax benefits premiums paid save taxes plan provides life cover age years also customers options insure critical illnesses disability accidental death benefit rider life cover age years\n",
      "실제 요약 : aegon life iterm insurance plan helps customers save tax\n",
      "추출적 요약 : \n",
      "\n",
      "\n",
      "원문 : pakistani singer rahat fateh ali khan denied receiving notice enforcement directorate allegedly smuggling foreign currency india would better authorities would served notice first publicised reads press release issued behalf rahat statement called allegation bizarre\n",
      "실제 요약 : rahat fateh ali khan denies getting notice for smuggling currency\n",
      "추출적 요약 : \n",
      "\n",
      "\n",
      "원문 : india recorded lowest odi total new zealand getting runs overs fourth odi hamilton thursday seven india batsmen dismissed single digit scores number ten batsman yuzvendra chahal top scored india previous lowest odi total new zealand\n",
      "실제 요약 : india get all out for their lowest odi total in new zealand\n",
      "추출적 요약 : \n",
      "\n",
      "\n",
      "원문 : weeks ex cbi director alok verma told department personnel training consider retired home ministry asked join work last day fixed tenure director thursday ministry directed immediately join dg fire services post transferred removal cbi chief\n",
      "실제 요약 : govt directs alok verma to join work day before his retirement\n",
      "추출적 요약 : \n",
      "\n",
      "\n",
      "원문 : andhra pradesh cm chandrababu naidu said met us president bill clinton addressed mr clinton sir modi junior politics addressed sir times satisfy ego hope justice state added\n",
      "실제 요약 : called pm modi sir times to satisfy his ego andhra cm\n",
      "추출적 요약 : \n",
      "\n",
      "\n",
      "원문 : congress candidate shafia zubair ramgarh assembly seat rajasthan defeating bjp sukhwant singh margin votes bypoll victory congress taken total seats member assembly election ramgarh seat delayed due death sitting mla bsp candidate laxman singh\n",
      "실제 요약 : cong wins ramgarh bypoll in rajasthan takes total to seats\n",
      "추출적 요약 : \n",
      "\n",
      "\n",
      "원문 : two minor cousins uttar pradesh gorakhpur allegedly repeatedly burnt tongs forced eat human excreta family friends two boys school cousins revealed ordeal police child welfare committee brought back gorakhpur nepal fled escape torture\n",
      "실제 요약 : up cousins fed human excreta for friendship with boys\n",
      "추출적 요약 : \n",
      "\n",
      "\n",
      "원문 : isha ghosh year old member bharat scouts guides imparting physical mental training schoolchildren jharkhand several decades chaibasa based ghosh reportedly walks seven kilometres daily spends eight hours conducting physical training apart climbing yoga sessions says one something society till one last breath\n",
      "실제 요약 : yr old woman conducts physical training in khand schools\n",
      "추출적 요약 : \n",
      "\n",
      "\n",
      "원문 : former stripper regional sales director pharmaceutical company sunrise lee gave doctor lap dance nightclub persuade prescribe addictive fentanyl spray company sales representative told us court said saw lee sitting doctor lap kind bouncing around lee accused bribing doctors\n",
      "실제 요약 : pharma exec gave doctor lap dance to sell medicine in us witness\n",
      "추출적 요약 : \n",
      "\n",
      "\n",
      "원문 : reliance industries chairman mukesh ambani daughter isha ambani got married last month said cried bidaai felt peer pressure everyone crying especially parents emotional everyone around would cry time added emotional affair everyone family said isha\n",
      "실제 요약 : only cried at my bidaai as felt peer pressure isha ambani\n",
      "추출적 요약 : \n",
      "\n",
      "\n",
      "원문 : louis vuitton owner lvmh makes high end beverages like mo chandon champagne hennessy cognac said stockpiling four months worth wine spirits uk preparation brexit ready worst case scenario difficulties deliveries french luxury giant said uk scheduled leave eu march\n",
      "실제 요약 : louis vuitton owner to stockpile months of wine spirits in uk\n",
      "추출적 요약 : \n",
      "\n",
      "\n",
      "원문 : filmmaker karan johar actress tabu turned showstoppers gaurav gupta opening night lakm fashion week summer resort johar wore red sequinned jacket black pants tabu walked ramp grey embellished gown fashion show began january continue till february\n",
      "실제 요약 : karan johar tabu turn showstoppers on opening night of lfw\n",
      "추출적 요약 : \n",
      "\n",
      "\n",
      "원문 : days threatened step post congress mlas continue crossing line karnataka chief minister hd kumaraswamy accused taking potshots asked many days tolerate stuff kumaraswamy made statements congress mla demanded siddaramaiah made cm said power ephemeral\n",
      "실제 요약 : how long can tolerate congress leaders potshots taka cm\n",
      "추출적 요약 : \n",
      "\n",
      "\n",
      "원문 : union minister dharmendra pradhan wednesday claimed illegal mining mafia odisha operates control cm naveen patnaik state congress chief niranjan patnaik added time come people odisha put full stop activities time come us ask explanation corrupt government\n",
      "실제 요약 : odisha cm patnaik controls mining mafia union minister\n",
      "추출적 요약 : \n",
      "\n",
      "\n",
      "원문 : claiming dearth ideas among opposition parties prime minister narendra modi wednesday said opposition talks modi whole day suspect even dream pm modi addressing new india youth conclave surat added opposition parties one agenda modi\n",
      "실제 요약 : think the opposition even dreams about me pm modi\n",
      "추출적 요약 : \n",
      "\n",
      "\n",
      "원문 : indian space research organisation wednesday unveiled human space flight centre bengaluru crore manned space mission gaganyaan scheduled isro said centre responsible development engineering systems crew survival space crew selection training also pursue activities sustained human space flight missions isro added\n",
      "실제 요약 : isro unveils bengaluru centre for manned space mission\n",
      "추출적 요약 : \n",
      "\n",
      "\n",
      "원문 : least people killed others injured saudi arabia week due flooding heavy rain emergency services rescued people flooded areas half tabuk heavy rains hit mainly western northwestern parts saudi arabia near border jordan\n",
      "실제 요약 : killed injured in saudi arabia floods\n",
      "추출적 요약 : \n",
      "\n",
      "\n",
      "원문 : reliance industries chairman mukesh ambani daughter isha ambani featured cover february edition vogue india dressed white shirt dress black ruffled skirt australian designer toni maticevski accessorising look misho ring cover story isha spoken work life marriage\n",
      "실제 요약 : isha ambani features on february cover of vogue magazine\n",
      "추출적 요약 : \n",
      "\n",
      "\n",
      "원문 : indian oil corporation wednesday said looking annual deal buy us crude seeks broaden oil purchasing options comes amid uncertainties iran imports us november granted six month waiver india sanctions iran restricted country monthly intake iranian oil barrels per day\n",
      "실제 요약 : indian oil looking for annual deal to buy crude from us\n",
      "추출적 요약 : \n",
      "\n",
      "\n",
      "원문 : former windies fast bowler curtly ambrose dismissed seven australian batsmen within span balls giving away one run test match january ambrose spell helped team bowl australia first innings one point ambrose ended first innings figures\n",
      "실제 요약 : pacer once took wickets for just run in balls in test\n",
      "추출적 요약 : \n",
      "\n",
      "\n",
      "원문 : london zoo offering people name cockroach exes valentine day quite require revenge another way make feel better getting back ex zoo said statement names appear zoo roach board february\n",
      "실제 요약 : uk zoo offers people to name cockroach after their ex on valentine\n",
      "추출적 요약 : \n",
      "\n",
      "\n",
      "원문 : stand captain rohit sharma become th indian cricketer play odis achieving feat taking field new zealand fourth odi hamilton thursday year old made odi debut june ireland belfast rohit scored runs first odis average\n",
      "실제 요약 : rohit sharma becomes th indian cricketer to play odis\n",
      "추출적 요약 : \n",
      "\n",
      "\n",
      "원문 : batsman shubman gill become th cricketer represent india odi cricket achieving feat new zealand fourth odi hamilton thursday year old received maiden odi cap former captain ms dhoni notably shubman named player world cup new zealand last year\n",
      "실제 요약 : year old shubman gill becomes india th odi cricketer\n",
      "추출적 요약 : \n",
      "\n",
      "\n",
      "원문 : investigators searching lost plane carrying argentine forward emiliano sala found two seat cushions french coast likely belonged aircraft investigators said launch underwater seabed search aircraft wreckage cardiff city footballer travelling france nantes wales cardiff plane disappeared english channel january\n",
      "실제 요약 : seat cushions from missing plane carrying footballer found\n",
      "추출적 요약 : \n",
      "\n",
      "\n",
      "원문 : italian third division football side lucchese head coach giancarlo favarin banned five months headbutting alessandria assistant coach gaetano mancino brawl following teams draw sunday mancino caught balance knocked ground headbutt earlier match favarin told player break opponent legs\n",
      "실제 요약 : italian coach knocks rival down with headbutt banned for months\n",
      "추출적 요약 : \n",
      "\n",
      "\n",
      "원문 : cyclists taking part national track cycling championship jaipur opted sleep floor inside stadium instead hotels expensive cycles organisers booked hotels provision cyclists keep bikes inside national gold medallist said cycles cost lakh damaged become non repairable\n",
      "실제 요약 : cyclists sleep on stadium floor instead of hotel over costly cycles\n",
      "추출적 요약 : \n",
      "\n",
      "\n",
      "원문 : silvia grecco year old brazilian mother narrates local football team palmeiras matches live year old blind autistic son nickollas stands describe details player wearing short sleeves colour football boots hair colour everything see feel tell even need curse referee grecco said recent match\n",
      "실제 요약 : brazilian mother narrates football matches to blind son from stands\n",
      "추출적 요약 : \n",
      "\n",
      "\n",
      "원문 : techcrunch report claimed india largest bank sbi secured passwordless server overnight alerted allowed anyone access phone numbers bank balances transactions millions customers mumbai based server containing two months data sbi quick sms call based system used request basic information accounts techcrunch revealed\n",
      "실제 요약 : sbi left account data of millions of users unprotected report\n",
      "추출적 요약 : \n",
      "\n",
      "\n",
      "원문 : rahul gandhi replied goa cm manohar parrikar letter accused congress president using visit ailing man political gains immense pressure pm meeting needs demonstrate loyalty attacking gandhi wrote letter parrikar clarified discuss rafale deal rahul\n",
      "실제 요약 : cm parrikar under pressure from pm after our goa meet rahul\n",
      "추출적 요약 : \n",
      "\n",
      "\n",
      "원문 : twenty seven year old mohammed mahuwala arrested indore wednesday allegedly cheating commerce giant amazon nearly lakh mahuwala member gang ordered costly gadgets amazon used get refund amount paid saying parcel empty reality devices taken parcel sold local shopkeepers said police\n",
      "실제 요약 : man arrested for cheating amazon of lakh by taking refunds\n",
      "추출적 요약 : \n",
      "\n",
      "\n",
      "원문 : agustawestland chopper scam co accused rajiv saxena extradited india uae wednesday evading enforcement directorate summons claiming suffering leukaemia moved anti money laundering court anticipatory bail december stating never summoned dubai address saxena lawyers alleged illegally extradited\n",
      "실제 요약 : agustawestland scam accused rajiv saxena extradited to india\n",
      "추출적 요약 : \n",
      "\n",
      "\n",
      "원문 : afghan president ashraf ghani said keys war pakistan islamabad quetta rawalpindi accusing country providing safe havens militants including belonging taliban ghani added key peace afghanistan comments came amid talks us taliban end year war afghanistan\n",
      "실제 요약 : pakistan holds keys to war afghanistan\n",
      "추출적 요약 : \n",
      "\n",
      "\n",
      "원문 : singapore based insurance agent jailed two years five months threatening harm clients unless paid bitcoins year old set email account signed messages lord voldemort fictional character harry potter series ye lin myint targeted people including cancelled insurance policies\n",
      "실제 요약 : insurance agent lord voldemort jailed for threatening clients\n",
      "추출적 요약 : \n",
      "\n",
      "\n",
      "원문 : gabrielle reilly year old us woman created earrings apple airpods put sale online absolutely refuse lose made earrings explained earrings took hour make debuted video twitter since garnered three million views\n",
      "실제 요약 : woman turns apple airpods into earrings to avoid losing them\n",
      "추출적 요약 : \n",
      "\n",
      "\n",
      "원문 : ex icici bank ceo chanda kochhar said utterly disappointed hurt shocked bank decision terminate kochhar said served icici years utmost honesty integrity ultimately truth prevail adding given copy independent probe report kochhar said none icici credit decisions unilateral\n",
      "실제 요약 : shocked hurt by icici decision truth will prevail kochhar\n",
      "추출적 요약 : \n",
      "\n",
      "\n",
      "원문 : swedish multinational fast fashion brand hennes mauritz ab hired christopher wylie whistleblower exposed facebook cambridge analytica data scandal wylie focus help get better insights customers products markets support work sustainable ethical artificial intelligence spokesperson said wylie former employee cambridge analytica\n",
      "실제 요약 : fashion brand hires facebook data scandal whistleblower\n",
      "추출적 요약 : \n",
      "\n",
      "\n",
      "원문 : micro blogging platform twitter testing new feature android put news top user timeline update making easier people see news stories followers discussing product manager walter gurzynski said feature comes alongside prompt saying catch happened away\n",
      "실제 요약 : twitter testing news first timeline feature on android\n",
      "추출적 요약 : \n",
      "\n",
      "\n",
      "원문 : samsung started mass producing one terabyte embedded universal flash storage technology use next generation mobile applications claims industry first eufs company added new eufs let smartphones store minute videos shot uhd format sized previous gb version samsung said\n",
      "실제 요약 : samsung builds world first tb storage chip for smartphones\n",
      "추출적 요약 : \n",
      "\n",
      "\n",
      "원문 : prime minister narendra modi wednesday said people negative mindset questioning government floating pro poor schemes added negative mindset people raising doubts schemes building toilets providing free gas connections poor said negative mentality laced vested interest still exists country\n",
      "실제 요약 : people with negative mindset quizzing pro poor schemes pm\n",
      "추출적 요약 : \n",
      "\n",
      "\n",
      "원문 : union minister anantkumar hegde took dig congress president rahul gandhi calling hybrid specimen clue religion father muslim mother christian son supposed brahmin even possible said added hybrid specimen cannot found laboratory world\n",
      "실제 요약 : rahul is hybrid specimen has no clue about religion hegde\n",
      "추출적 요약 : \n",
      "\n",
      "\n",
      "원문 : several parts us set experience record low temperatures polar vortex hit upper midwest million people expected experience freezing temperatures week temperatures throughout upper midwest expected least zero government offices schools closed several areas\n",
      "실제 요약 : extreme cold to affect million people as polar vortex hits us\n",
      "추출적 요약 : \n",
      "\n",
      "\n",
      "원문 : police wednesday registered cases persons including woman leader hindu mahasabha aligarh firing effigy mahatma gandhi air pistol incident took place house naurangabad locality city senior superintendent police said video event went viral social media added\n",
      "실제 요약 : booked for firing air shots at mahatma gandhi effigy\n",
      "추출적 요약 : \n",
      "\n",
      "\n",
      "원문 : railway police rescued woman travelling train chennai got leg stuck inside commode toilet caught inside commode hole struggled remove leg following failed attempts shouted help reports said railway police used cutter pry open commode freed leg\n",
      "실제 요약 : railway police rescues woman with leg stuck in train toilet\n",
      "추출적 요약 : \n",
      "\n",
      "\n",
      "원문 : us tuesday began returning asylum seekers mexico sending back migrant central american nation called move response illegal migration crisis faced migrant protection protocols policy us return certain migrants cross country illegally back mexico asylum requests processed\n",
      "실제 요약 : us begins sending back asylum seekers to mexico\n",
      "추출적 요약 : \n",
      "\n",
      "\n",
      "원문 : former finance minister yashwant sinha tuesday demanded probe alleged diversion loans worth crore dewan housing finance agencies including regulators government failed track nefarious deals said comes media report tuesday accused dhfl controlling shareholders diverting funds shell companies buy assets\n",
      "실제 요약 : yashwant sinha demands probe into alleged fund diversion by dhfl\n",
      "추출적 요약 : \n",
      "\n",
      "\n",
      "원문 : us based boeing wednesday reported annual sales worth billion first time planemaker sales crossed billion mark year history company said expects deliver commercial aircraft boeing retained position world largest planemaker seventh straight year delivering aircraft\n",
      "실제 요약 : boeing sales cross bn for st time in its yr history\n",
      "추출적 요약 : \n",
      "\n",
      "\n",
      "원문 : text\n",
      "실제 요약 : headlines\n",
      "추출적 요약 : \n",
      "\n",
      "\n"
     ]
    }
   ],
   "source": [
    "# 필요한 라이브러리 임포트\n",
    "from summa.summarizer import summarize\n",
    "\n",
    "# 데이터프레임에서 헤드라인과 텍스트 데이터를 순회하며 요약을 출력\n",
    "for idx, (head, text) in enumerate(zip(data['headlines'], data['text'])):\n",
    "    if idx == 50:  # 인덱스가 50이면 반복 종료 (처음 50개만 처리)\n",
    "        break\n",
    "    print(\"원문 :\", text)  # 원문 출력\n",
    "    print(\"실제 요약 :\", head)  # 실제 헤드라인 (요약) 출력\n",
    "    print(\"추출적 요약 :\", summarize(text, ratio=0.35))  # 추출적 요약 결과 출력 (원문의 35%로 요약)\n",
    "    print(\"\\n\")  # 각 기사 사이에 줄바꿈 추가\n"
   ]
  },
  {
   "cell_type": "code",
   "execution_count": 144,
   "id": "bf0880ac",
   "metadata": {},
   "outputs": [
    {
     "name": "stdout",
     "output_type": "stream",
     "text": [
      "원문 : oneplus emerged india best selling premium smartphone brand per report counterpoint captured market share premium segment oneplus emerged highest selling premium smartphone followed oneplus\n",
      "실제 요약 : oneplus named bestselling premium smartphone brand of report\n",
      "추출적 요약 : \n",
      "\n",
      "\n",
      "원문 : actress mishti featured manikarnika queen jhansi said film co director kangana ranaut made false promises cast kangana said want dates characters look jumbled trying best give everybody prominent space screen watching movie scope characters mishti added\n",
      "실제 요약 : kangana made fake promises to cast manikarnika actress mishti\n",
      "추출적 요약 : \n",
      "\n",
      "\n",
      "원문 : nevada state athletic commission banned mma fighters conor mcgregor khabib nurmagomedov six months nine months respectively roles mass brawl occurred fight ufc last october mcgregor khabib fined respectively brawl occurred nurmagomedov confronted mcgregor teammate\n",
      "실제 요약 : mcgregor fined lakh khabib crore for brawl both banned\n",
      "추출적 요약 : \n",
      "\n",
      "\n",
      "원문 : pakistan captain sarfaraz ahmed banned four matches racist remarks took apparent dig critics sharing video child reciting log hai na poem twitter pyaar karna hai khud se kar dushmani karne ke liye log hai na poem read world sarfaraz wrote\n",
      "실제 요약 : banned for matches sarfaraz shares log hai na poem for critics\n",
      "추출적 요약 : \n",
      "\n",
      "\n",
      "원문 : banned cricketer sreesanth told supreme court initially confessed delhi police alleged involvement ipl spot fixing scandal escape continuous police torture sreesanth said bookie tried dragging spot fixing fall citing sreesanth informing bcci fixing approach apex court said sreesanth conduct good\n",
      "실제 요약 : confessed to spot fixing to escape police torture sreesanth to sc\n",
      "추출적 요약 : \n",
      "\n",
      "\n"
     ]
    }
   ],
   "source": [
    "# 필요한 라이브러리 임포트\n",
    "from summa.summarizer import summarize\n",
    "\n",
    "# 추출적 요약 실행 및 결과 출력\n",
    "for i in range(50, 55):\n",
    "    print(\"원문 :\", data['text'].iloc[i])\n",
    "    print(\"실제 요약 :\", data['headlines'].iloc[i])\n",
    "    print(\"추출적 요약 :\", summarize(data['text'].iloc[i], ratio=0.2))\n",
    "    print(\"\\n\")"
   ]
  },
  {
   "cell_type": "code",
   "execution_count": null,
   "id": "028f2c85",
   "metadata": {},
   "outputs": [],
   "source": []
  }
 ],
 "metadata": {
  "kernelspec": {
   "display_name": "Python 3 (ipykernel)",
   "language": "python",
   "name": "python3"
  },
  "language_info": {
   "codemirror_mode": {
    "name": "ipython",
    "version": 3
   },
   "file_extension": ".py",
   "mimetype": "text/x-python",
   "name": "python",
   "nbconvert_exporter": "python",
   "pygments_lexer": "ipython3",
   "version": "3.9.7"
  }
 },
 "nbformat": 4,
 "nbformat_minor": 5
}
